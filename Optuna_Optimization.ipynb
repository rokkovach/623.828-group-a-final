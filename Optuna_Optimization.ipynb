{
  "cells": [
    {
      "cell_type": "markdown",
      "metadata": {},
      "source": [
        "# Optuna hyper parameter optimization\n",
        "Here we have used small samples for better resourse management"
      ]
    },
    {
      "cell_type": "code",
      "execution_count": 1,
      "metadata": {
        "colab": {
          "base_uri": "https://localhost:8080/"
        },
        "collapsed": true,
        "id": "j_NV9XIPiQm5",
        "outputId": "2ab1dd0b-0831-480a-cc02-ccc294e093c5"
      },
      "outputs": [
        {
          "name": "stdout",
          "output_type": "stream",
          "text": [
            "Requirement already satisfied: torch in /venv/main/lib/python3.12/site-packages (2.7.0+cu128)\n",
            "Requirement already satisfied: filelock in /venv/main/lib/python3.12/site-packages (from torch) (3.18.0)\n",
            "Requirement already satisfied: typing-extensions>=4.10.0 in /venv/main/lib/python3.12/site-packages (from torch) (4.13.2)\n",
            "Requirement already satisfied: setuptools in /venv/main/lib/python3.12/site-packages (from torch) (70.2.0)\n",
            "Requirement already satisfied: sympy>=1.13.3 in /venv/main/lib/python3.12/site-packages (from torch) (1.13.3)\n",
            "Requirement already satisfied: networkx in /venv/main/lib/python3.12/site-packages (from torch) (3.3)\n",
            "Requirement already satisfied: jinja2 in /venv/main/lib/python3.12/site-packages (from torch) (3.1.4)\n",
            "Requirement already satisfied: fsspec in /venv/main/lib/python3.12/site-packages (from torch) (2025.3.2)\n",
            "Requirement already satisfied: nvidia-cuda-nvrtc-cu12==12.8.61 in /venv/main/lib/python3.12/site-packages (from torch) (12.8.61)\n",
            "Requirement already satisfied: nvidia-cuda-runtime-cu12==12.8.57 in /venv/main/lib/python3.12/site-packages (from torch) (12.8.57)\n",
            "Requirement already satisfied: nvidia-cuda-cupti-cu12==12.8.57 in /venv/main/lib/python3.12/site-packages (from torch) (12.8.57)\n",
            "Requirement already satisfied: nvidia-cudnn-cu12==9.7.1.26 in /venv/main/lib/python3.12/site-packages (from torch) (9.7.1.26)\n",
            "Requirement already satisfied: nvidia-cublas-cu12==12.8.3.14 in /venv/main/lib/python3.12/site-packages (from torch) (12.8.3.14)\n",
            "Requirement already satisfied: nvidia-cufft-cu12==11.3.3.41 in /venv/main/lib/python3.12/site-packages (from torch) (11.3.3.41)\n",
            "Requirement already satisfied: nvidia-curand-cu12==10.3.9.55 in /venv/main/lib/python3.12/site-packages (from torch) (10.3.9.55)\n",
            "Requirement already satisfied: nvidia-cusolver-cu12==11.7.2.55 in /venv/main/lib/python3.12/site-packages (from torch) (11.7.2.55)\n",
            "Requirement already satisfied: nvidia-cusparse-cu12==12.5.7.53 in /venv/main/lib/python3.12/site-packages (from torch) (12.5.7.53)\n",
            "Requirement already satisfied: nvidia-cusparselt-cu12==0.6.3 in /venv/main/lib/python3.12/site-packages (from torch) (0.6.3)\n",
            "Requirement already satisfied: nvidia-nccl-cu12==2.26.2 in /venv/main/lib/python3.12/site-packages (from torch) (2.26.2)\n",
            "Requirement already satisfied: nvidia-nvtx-cu12==12.8.55 in /venv/main/lib/python3.12/site-packages (from torch) (12.8.55)\n",
            "Requirement already satisfied: nvidia-nvjitlink-cu12==12.8.61 in /venv/main/lib/python3.12/site-packages (from torch) (12.8.61)\n",
            "Requirement already satisfied: nvidia-cufile-cu12==1.13.0.11 in /venv/main/lib/python3.12/site-packages (from torch) (1.13.0.11)\n",
            "Requirement already satisfied: triton==3.3.0 in /venv/main/lib/python3.12/site-packages (from torch) (3.3.0)\n",
            "Requirement already satisfied: mpmath<1.4,>=1.1.0 in /venv/main/lib/python3.12/site-packages (from sympy>=1.13.3->torch) (1.3.0)\n",
            "Requirement already satisfied: MarkupSafe>=2.0 in /venv/main/lib/python3.12/site-packages (from jinja2->torch) (2.1.5)\n",
            "Requirement already satisfied: transformers in /venv/main/lib/python3.12/site-packages (4.52.4)\n",
            "Requirement already satisfied: filelock in /venv/main/lib/python3.12/site-packages (from transformers) (3.18.0)\n",
            "Requirement already satisfied: huggingface-hub<1.0,>=0.30.0 in /venv/main/lib/python3.12/site-packages (from transformers) (0.30.2)\n",
            "Requirement already satisfied: numpy>=1.17 in /venv/main/lib/python3.12/site-packages (from transformers) (2.1.2)\n",
            "Requirement already satisfied: packaging>=20.0 in /venv/main/lib/python3.12/site-packages (from transformers) (25.0)\n",
            "Requirement already satisfied: pyyaml>=5.1 in /venv/main/lib/python3.12/site-packages (from transformers) (6.0.2)\n",
            "Requirement already satisfied: regex!=2019.12.17 in /venv/main/lib/python3.12/site-packages (from transformers) (2024.11.6)\n",
            "Requirement already satisfied: requests in /venv/main/lib/python3.12/site-packages (from transformers) (2.32.3)\n",
            "Requirement already satisfied: tokenizers<0.22,>=0.21 in /venv/main/lib/python3.12/site-packages (from transformers) (0.21.1)\n",
            "Requirement already satisfied: safetensors>=0.4.3 in /venv/main/lib/python3.12/site-packages (from transformers) (0.5.3)\n",
            "Requirement already satisfied: tqdm>=4.27 in /venv/main/lib/python3.12/site-packages (from transformers) (4.67.1)\n",
            "Requirement already satisfied: fsspec>=2023.5.0 in /venv/main/lib/python3.12/site-packages (from huggingface-hub<1.0,>=0.30.0->transformers) (2025.3.2)\n",
            "Requirement already satisfied: typing-extensions>=3.7.4.3 in /venv/main/lib/python3.12/site-packages (from huggingface-hub<1.0,>=0.30.0->transformers) (4.13.2)\n",
            "Requirement already satisfied: charset-normalizer<4,>=2 in /venv/main/lib/python3.12/site-packages (from requests->transformers) (3.4.1)\n",
            "Requirement already satisfied: idna<4,>=2.5 in /venv/main/lib/python3.12/site-packages (from requests->transformers) (3.10)\n",
            "Requirement already satisfied: urllib3<3,>=1.21.1 in /venv/main/lib/python3.12/site-packages (from requests->transformers) (2.4.0)\n",
            "Requirement already satisfied: certifi>=2017.4.17 in /venv/main/lib/python3.12/site-packages (from requests->transformers) (2025.4.26)\n",
            "Requirement already satisfied: Optuna in /venv/main/lib/python3.12/site-packages (4.3.0)\n",
            "Requirement already satisfied: alembic>=1.5.0 in /venv/main/lib/python3.12/site-packages (from Optuna) (1.16.1)\n",
            "Requirement already satisfied: colorlog in /venv/main/lib/python3.12/site-packages (from Optuna) (6.9.0)\n",
            "Requirement already satisfied: numpy in /venv/main/lib/python3.12/site-packages (from Optuna) (2.1.2)\n",
            "Requirement already satisfied: packaging>=20.0 in /venv/main/lib/python3.12/site-packages (from Optuna) (25.0)\n",
            "Requirement already satisfied: sqlalchemy>=1.4.2 in /venv/main/lib/python3.12/site-packages (from Optuna) (2.0.41)\n",
            "Requirement already satisfied: tqdm in /venv/main/lib/python3.12/site-packages (from Optuna) (4.67.1)\n",
            "Requirement already satisfied: PyYAML in /venv/main/lib/python3.12/site-packages (from Optuna) (6.0.2)\n",
            "Requirement already satisfied: Mako in /venv/main/lib/python3.12/site-packages (from alembic>=1.5.0->Optuna) (1.3.10)\n",
            "Requirement already satisfied: typing-extensions>=4.12 in /venv/main/lib/python3.12/site-packages (from alembic>=1.5.0->Optuna) (4.13.2)\n",
            "Requirement already satisfied: greenlet>=1 in /venv/main/lib/python3.12/site-packages (from sqlalchemy>=1.4.2->Optuna) (3.2.2)\n",
            "Requirement already satisfied: MarkupSafe>=0.9.2 in /venv/main/lib/python3.12/site-packages (from Mako->alembic>=1.5.0->Optuna) (2.1.5)\n"
          ]
        }
      ],
      "source": [
        "# !pip install torch # for Model inference\n",
        "# !pip install transformers # for Tokenization\n",
        "# !pip install Optuna\n",
        "\n",
        "\n",
        "import json\n",
        "import pandas as pd\n",
        "import matplotlib.pyplot as plt\n",
        "import torch\n",
        "from torch import nn, optim\n",
        "from torch.utils.data import Dataset, DataLoader\n",
        "from transformers import RobertaForSequenceClassification\n",
        "from transformers import RobertaTokenizerFast\n"
      ]
    },
    {
      "cell_type": "code",
      "execution_count": 3,
      "metadata": {},
      "outputs": [
        {
          "name": "stdout",
          "output_type": "stream",
          "text": [
            "GPU Memory Status:\n",
            "Allocated: 0MB\n",
            "Cached: 0MB\n"
          ]
        }
      ],
      "source": [
        "# Clear GPU memory and cache\n",
        "import torch\n",
        "import gc\n",
        "\n",
        "# Clear GPU cache\n",
        "torch.cuda.empty_cache()\n",
        "\n",
        "# Clear memory\n",
        "gc.collect()\n",
        "\n",
        "# Print GPU memory stats to verify\n",
        "print(\"GPU Memory Status:\")\n",
        "print(f\"Allocated: {torch.cuda.memory_allocated(0) // 1024**2}MB\")\n",
        "print(f\"Cached: {torch.cuda.memory_reserved(0) // 1024**2}MB\")"
      ]
    },
    {
      "cell_type": "code",
      "execution_count": 4,
      "metadata": {
        "ExecuteTime": {
          "end_time": "2025-05-16T14:20:14.037772Z",
          "start_time": "2025-05-16T14:20:13.738418Z"
        },
        "colab": {
          "base_uri": "https://localhost:8080/"
        },
        "id": "V_DbJxDiiwFU",
        "outputId": "456f75ec-9dba-4fa2-cb40-442bff861355"
      },
      "outputs": [
        {
          "name": "stdout",
          "output_type": "stream",
          "text": [
            "CUDA available: True\n",
            "Device name: NVIDIA GeForce RTX 5080\n"
          ]
        }
      ],
      "source": [
        "print(\"CUDA available:\", torch.cuda.is_available())\n",
        "if torch.cuda.is_available():\n",
        "    print(\"Device name:\", torch.cuda.get_device_name(0))"
      ]
    },
    {
      "cell_type": "markdown",
      "metadata": {},
      "source": [
        "# Data Loading and Distribution"
      ]
    },
    {
      "cell_type": "code",
      "execution_count": 6,
      "metadata": {
        "colab": {
          "base_uri": "https://localhost:8080/",
          "height": 456
        },
        "id": "5csPph-eVt7j",
        "outputId": "1447de66-acb4-43f1-fce3-28b8f29c3e11"
      },
      "outputs": [
        {
          "name": "stdout",
          "output_type": "stream",
          "text": [
            "Vulnerability Distribution:\n",
            "vul\n",
            "0    177736\n",
            "1      8794\n",
            "Name: count, dtype: int64\n"
          ]
        },
        {
          "data": {
            "image/png": "[encoded data removed]",
            "text/plain": [
              "<Figure size 400x400 with 1 Axes>"
            ]
          },
          "metadata": {},
          "output_type": "display_data"
        }
      ],
      "source": [
        "with open('data.json', 'r') as f:\n",
        "    data = json.load(f)\n",
        "\n",
        "#build DataFrame\n",
        "df = pd.DataFrame(data)\n",
        "\n",
        "# Value counts\n",
        "vul_counts = df['vul'].value_counts()\n",
        "\n",
        "# Print raw counts\n",
        "print(\"Vulnerability Distribution:\")\n",
        "print(vul_counts)\n",
        "\n",
        "# Plot pie chart\n",
        "plt.figure(figsize=(4,4))\n",
        "vul_counts.plot.pie(autopct='%1.1f%%', labels=['Not Vulnerable', 'Vulnerable'], colors=['#66b3ff','#ff9999'])\n",
        "plt.title('Vulnerability Distribution')\n",
        "plt.ylabel('')\n",
        "plt.show()"
      ]
    },
    {
      "cell_type": "markdown",
      "metadata": {
        "id": "G0yoHAiAfPIb"
      },
      "source": [
        "# Splitting Dataset to test and train_val so we dont mess up the test dataset"
      ]
    },
    {
      "cell_type": "code",
      "execution_count": 18,
      "metadata": {},
      "outputs": [
        {
          "name": "stdout",
          "output_type": "stream",
          "text": [
            "vul\n",
            "0    35529\n",
            "1     1777\n",
            "Name: count, dtype: int64\n"
          ]
        }
      ],
      "source": [
        "#small dataset, \n",
        "not_touched_df,small_df=train_test_split(df,test_size=0.2,random_state=42)\n",
        "\n",
        "vul_counts=small_df['vul'].value_counts()\n",
        "print(vul_counts)"
      ]
    },
    {
      "cell_type": "code",
      "execution_count": null,
      "metadata": {
        "colab": {
          "base_uri": "https://localhost:8080/",
          "height": 456
        },
        "id": "Z2dcxvJFXWvM",
        "outputId": "029284bc-cac0-4c53-cf75-b9f009bd69f0"
      },
      "outputs": [
        {
          "name": "stdout",
          "output_type": "stream",
          "text": [
            "Vulnerability Distribution:\n",
            "vul\n",
            "0    159980\n",
            "1      7897\n",
            "Name: count, dtype: int64\n"
          ]
        },
        {
          "data": {
            "image/png": "[encoded data removed]",
            "text/plain": [
              "<Figure size 400x400 with 1 Axes>"
            ]
          },
          "metadata": {},
          "output_type": "display_data"
        }
      ],
      "source": [
        "#data splitting\n",
        "from sklearn.model_selection import train_test_split\n",
        "\n",
        "# keep 10% for test data about 17000 samples\n",
        "train_val_ds, test_dataset = train_test_split(data, test_size=0.1, random_state=42)\n",
        "\n",
        "# Convert to DataFrame\n",
        "train_val_df = pd.DataFrame(train_val_ds)\n",
        "\n",
        "# Show first few rows\n",
        "train_val_df.head()\n",
        "\n",
        "# Value counts\n",
        "vul_counts = train_val_df['vul'].value_counts()\n",
        "\n",
        "# Print raw counts\n",
        "print(\"Vulnerability Distribution:\")\n",
        "print(vul_counts)\n",
        "\n",
        "# Plot pie chart\n",
        "plt.figure(figsize=(4,4))\n",
        "vul_counts.plot.pie(autopct='%1.1f%%', labels=['Not Vulnerable', 'Vulnerable'], colors=['#66b3ff','#ff9999'])\n",
        "plt.title('Vulnerability Distribution')\n",
        "plt.ylabel('')\n",
        "plt.show()"
      ]
    },
    {
      "cell_type": "code",
      "execution_count": 7,
      "metadata": {
        "colab": {
          "base_uri": "https://localhost:8080/"
        },
        "id": "2sKW1b_DN3Vl",
        "outputId": "c4638821-741b-46f0-a2b7-13f5661fda71"
      },
      "outputs": [
        {
          "name": "stdout",
          "output_type": "stream",
          "text": [
            "Vulnerability Distribution:\n",
            "vul\n",
            "0    17756\n",
            "1      897\n",
            "Name: count, dtype: int64\n"
          ]
        }
      ],
      "source": [
        "# test data\n",
        "# Convert to DataFrame\n",
        "test_df = pd.DataFrame(test_dataset)\n",
        "\n",
        "# Show first few rows\n",
        "test_df.head()\n",
        "\n",
        "# Value counts\n",
        "vul_counts = test_df['vul'].value_counts()\n",
        "\n",
        "# Print raw counts\n",
        "print(\"Vulnerability Distribution:\")\n",
        "print(vul_counts)\n",
        "\n"
      ]
    },
    {
      "cell_type": "code",
      "execution_count": 8,
      "metadata": {
        "colab": {
          "base_uri": "https://localhost:8080/"
        },
        "id": "q2UoYZgXYmxW",
        "outputId": "78e1966c-254c-453f-c146-643206d6fa17"
      },
      "outputs": [
        {
          "name": "stdout",
          "output_type": "stream",
          "text": [
            "vul\n",
            "0    1601\n",
            "1      78\n",
            "Name: count, dtype: int64\n"
          ]
        }
      ],
      "source": [
        "#build up validation data\n",
        "\n",
        "temp_dataset, validation_dataset = train_test_split(train_val_ds, test_size=0.1, random_state=42)\n",
        "\n",
        "vul_counts = pd.DataFrame(validation_dataset)['vul'].value_counts()\n",
        "print(vul_counts)"
      ]
    },
    {
      "cell_type": "markdown",
      "metadata": {
        "id": "rEqVbPnifmIo"
      },
      "source": [
        "# Experiment for making the training dataset balanced\n",
        "\n",
        "\n",
        "\n"
      ]
    },
    {
      "cell_type": "code",
      "execution_count": 9,
      "metadata": {
        "colab": {
          "base_uri": "https://localhost:8080/",
          "height": 456
        },
        "id": "gdr7QJ4-ftj6",
        "outputId": "e82aa6e4-15fb-4688-da32-4ea4952f30d3"
      },
      "outputs": [
        {
          "name": "stdout",
          "output_type": "stream",
          "text": [
            "Vulnerability Distribution:\n",
            "vul\n",
            "1    3000\n",
            "0    3000\n",
            "Name: count, dtype: int64\n"
          ]
        },
        {
          "data": {
            "image/png": "[encoded data removed]",
            "text/plain": [
              "<Figure size 400x400 with 1 Axes>"
            ]
          },
          "metadata": {},
          "output_type": "display_data"
        }
      ],
      "source": [
        "from sklearn.utils import resample\n",
        "\n",
        "temp_df = pd.DataFrame(temp_dataset)\n",
        "# Data sampling\n",
        "df_vulnerable = temp_df[temp_df['vul'] == 1]\n",
        "df_not_vulnerable = temp_df[temp_df['vul'] == 0]\n",
        "\n",
        "# equal samples of vulnerable and non-vulnerable codes\n",
        "n_samples=3000\n",
        "vul_samples = resample(df_vulnerable, replace=False, n_samples=n_samples, random_state=42)\n",
        "not_vul_samples = resample(df_not_vulnerable, replace=False, n_samples=n_samples, random_state=42)\n",
        "\n",
        "balanced_df = pd.concat([vul_samples, not_vul_samples]).sample(frac=1, random_state=42).reset_index(drop=True)\n",
        "\n",
        "# Value counts\n",
        "balanced_vul = balanced_df['vul'].value_counts()\n",
        "\n",
        "# Print raw counts\n",
        "print(\"Vulnerability Distribution:\")\n",
        "print(balanced_vul)\n",
        "\n",
        "# Plot pie chart\n",
        "plt.figure(figsize=(4,4))\n",
        "balanced_vul.plot.pie(autopct='%1.1f%%', labels=['Not Vulnerable', 'Vulnerable'], colors=['#66b3ff','#ff9999'])\n",
        "plt.title('Vulnerability Distribution')\n",
        "plt.ylabel('')\n",
        "plt.show()"
      ]
    },
    {
      "cell_type": "code",
      "execution_count": 10,
      "metadata": {
        "colab": {
          "base_uri": "https://localhost:8080/"
        },
        "id": "vfE83rd6fxiH",
        "outputId": "058cb604-9231-4120-90fd-8c8d1a5f1092"
      },
      "outputs": [
        {
          "name": "stdout",
          "output_type": "stream",
          "text": [
            "{'code': '   PropertyTreeState LayerState() {\\n    DEFINE_STATIC_REF(\\n        TransformPaintPropertyNode, transform,\\n        CreateTransform(TransformPaintPropertyNode::Root(),\\n                        TransformationMatrix().Translate(123, 456),\\n                        FloatPoint3D(1, 2, 3)));\\n    DEFINE_STATIC_REF(ClipPaintPropertyNode, clip,\\n                      CreateClip(ClipPaintPropertyNode::Root(), transform,\\n                                 FloatRoundedRect(12, 34, 56, 78)));\\n    DEFINE_STATIC_REF(\\n        EffectPaintPropertyNode, effect,\\n        EffectPaintPropertyNode::Create(\\n            EffectPaintPropertyNode::Root(),\\n            EffectPaintPropertyNode::State{\\n                transform, clip, kColorFilterLuminanceToAlpha,\\n                CompositorFilterOperations(), 0.789f, SkBlendMode::kSrcIn}));\\n    return PropertyTreeState(transform, clip, effect);\\n   }\\n', 'vul': 1, 'flaw_line_no': [2, 3, 4, 5, 6, 7, 8, 9, 10, 11, 12, 13, 14, 15, 16, 17], 'bigvul_id': 185686}\n",
            "{'code': 'static int copy_io(unsigned long clone_flags, struct task_struct *tsk)\\n{\\n#ifdef CONFIG_BLOCK\\n  struct io_context *ioc = current->io_context;\\n  if (!ioc)\\n    return 0;\\n  if (clone_flags & CLONE_IO) {\\n    tsk->io_context = ioc_task_link(ioc);\\n    if (unlikely(!tsk->io_context))\\n      return -ENOMEM;\\n  } else if (ioprio_valid(ioc->ioprio)) {\\n    tsk->io_context = alloc_io_context(GFP_KERNEL, -1);\\n    if (unlikely(!tsk->io_context))\\n      return -ENOMEM;\\n    tsk->io_context->ioprio = ioc->ioprio;\\n  }\\n#endif\\n  return 0;\\n}\\n', 'vul': 0, 'flaw_line_no': [], 'bigvul_id': 22154}\n"
          ]
        }
      ],
      "source": [
        "train_dataset = balanced_df.to_dict(orient='records')\n",
        "print(train_dataset[0])\n",
        "print(train_dataset[1])"
      ]
    },
    {
      "cell_type": "code",
      "execution_count": 11,
      "metadata": {
        "id": "GyopDb0U8hqw"
      },
      "outputs": [],
      "source": [
        "class CodeBERTDataset(Dataset):\n",
        "    def __init__(self, codes, tokenizer, max_length):\n",
        "      self.data=codes\n",
        "      self.tokenizer=tokenizer\n",
        "      self.max_len=max_length\n",
        "\n",
        "\n",
        "    def __len__(self):\n",
        "      \"\"\"Tells PyTorch how many examples are in the dataset.\"\"\"\n",
        "      return len(self.data)\n",
        "\n",
        "\n",
        "    def __getitem__(self,idx):\n",
        "      \"\"\"Gets a single function at idx from the dataset.\"\"\"\n",
        "      item=self.data[idx]\n",
        "      code=item[\"code\"]\n",
        "      vul=item[\"vul\"]\n",
        "      flaw_line_no=item[\"flaw_line_no\"]\n",
        "\n",
        "\n",
        "      enc=self.tokenizer(\n",
        "          code,\n",
        "          add_special_tokens=True,\n",
        "          max_length=self.max_len,\n",
        "          padding=\"max_length\",\n",
        "          truncation=True,\n",
        "          return_tensors=\"pt\",\n",
        "          return_offsets_mapping=True\n",
        "      )\n",
        "\n",
        "      return {\n",
        "        \"input_ids\": enc[\"input_ids\"].squeeze(0),     #removes the batch dimension (the 1 in [1,512]), giving you a 1-D tensor of length 512\n",
        "        \"attention_mask\": enc[\"attention_mask\"].squeeze(0),\n",
        "        \"labels\": torch.tensor(vul, dtype=torch.long),\n",
        "        \"code\": code,\n",
        "        \"offset_mapping\": enc[\"offset_mapping\"].squeeze(0), #start and end index of each token\n",
        "        \"flaw_line_no\": flaw_line_no\n",
        "      }\n",
        "\n",
        "\n",
        "def custom_collate_fn(batch):\n",
        "    # This function will receive a list of dictionaries, where each dictionary\n",
        "    # corresponds to one sample returned by __getitem__\n",
        "    collated_batch = {}\n",
        "\n",
        "    # Tensors that can be stacked directly\n",
        "    collated_batch[\"input_ids\"] = torch.stack([item[\"input_ids\"] for item in batch])\n",
        "    collated_batch[\"attention_mask\"] = torch.stack([item[\"attention_mask\"] for item in batch])\n",
        "    collated_batch[\"labels\"] = torch.stack([item[\"labels\"] for item in batch])\n",
        "    collated_batch[\"offset_mapping\"] = torch.stack([item[\"offset_mapping\"] for item in batch])\n",
        "\n",
        "    # Items that are not tensors and should not be stacked (kept as lists)\n",
        "    collated_batch[\"code\"] = [item[\"code\"] for item in batch]\n",
        "    collated_batch[\"flaw_line_no\"] = [item[\"flaw_line_no\"] for item in batch] # Keep as list of lists\n",
        "\n",
        "    return collated_batch"
      ]
    },
    {
      "cell_type": "code",
      "execution_count": null,
      "metadata": {
        "colab": {
          "base_uri": "https://localhost:8080/",
          "height": 372,
          "referenced_widgets": [
            "cb886794d1de40ddba2b138be2b27e9e",
            "89e16a41ffbf4e0a91d91ce27d227373",
            "69573b28181845149006d06ce4fdc507",
            "a94edc754a394f129191401639ab4fa6",
            "c6722170c28740daa126611c56aec406",
            "33a7a108cae44c90a8182e3c75f6b379",
            "b316b07cb00a4fb98d8ba74bddec984e",
            "cbf48451f87941f68966efd1ba925a23",
            "9b3c759498934dd1bfd9c76505fcb198",
            "030607ef6fe84fee8007446cb509be61",
            "62fa3750a9214b2490ad224e944f89ad",
            "5002419487374b57a0c980d4b1f5da65",
            "e32d8a695f1840c294cd9ba2976a8e16",
            "88db3fceb1bd44179d99cc39587e9586",
            "a4851453b1964050949d9e0a3d16cfd6",
            "789146f0550f450b8de66097ec4fdd6c",
            "5a8ac4b97dca414b94e2170dbff02bb1",
            "5d357f25578342dbad22b27ba5cbb4e9",
            "cfccbba007d7490cb09739f6584f2ae8",
            "369498116cac4ae09ff455d632984758",
            "13151feabdd544dfbfbd017e17fc19d9",
            "b01c584a5a7345c6ac7ff9d9c29e54bd",
            "51b80a11294f424288d7539fc45cfa4c",
            "5d43f29792b54570ad9b1dd50a1262de",
            "53a9dfd96b1e47b78cbce4e062b39462",
            "caa8bd91464349a1b92334130fea76cc",
            "d34b79f8c0714e8c8fdd27328bbfc7a1",
            "5a32dc9aa429446091b7ab8ef05ae20a",
            "0d5dccf3b8dc4808955bf6ad18cf1bf0",
            "0c872cc3525f442f8f85c35a9a283bc9",
            "a4c07e26a7fd4efb82e55d2ba6fa37cd",
            "faa7b2e9d4434f59b4025d4f0672b28f",
            "cbf48700257d43f7871b6e6628e950ba",
            "f1727ee3799c458f8e16b2d8b884d671",
            "3d907c30a2634364a64a67d7c20f15d5",
            "0902c22a5bce4a6f896091e4c96beacf",
            "9474e9198d374b1c8ca205d2d83c2124",
            "9d5873d8a2144f8faff06d7e4ec5a1d3",
            "45a8dd922bc84cc49c510210c966b5b2",
            "6dc3d89349054aa9a4110c5a7ae7dd99",
            "bba0ab96300c4bb691d4d025168e8fc2",
            "fa9410ef174243b1988a0aa63ca38cfe",
            "f44ae5924b324f44bde6ad47e63f4dd9",
            "3a53b42b225a4cb29a961c1d81049f35",
            "fb97bd4362f048e495107e6b06c7b070",
            "471d804ae7a24a43a9399d9a17619ad6",
            "cf77bdf9eda84326b2f8c4a8adc592b8",
            "2831f175c58d4df1bdca7ab51580a585",
            "3622c40246cd4c418d6b0be87a8eabe3",
            "fb7d16a76f1648f6b78f586ef17f15e0",
            "a295f1a203a841ea937ed2796d661c39",
            "fd1b5619e2a64b46bd6dd48b1328dd59",
            "01d740979f47467c94233b7aac08e31b",
            "b83c333bc50847b4ba38bf6a976c3b7e",
            "35ffec9c3ef84ac285f5847c0ceddcc0",
            "c3da7d04467f40c0a3a54a26e0726bb2",
            "2324fa453fe7472f80d7e71a12b7abc3",
            "54558508893243a8bb3321534afbfd5a",
            "cff83c7534024690bce996b8796bf112",
            "34a20f6a820d454f82a7b61577a8dc1f",
            "92c3444219c149e4b28798bee888572c",
            "ca2f67bcf60c48a69d82e49bc967785a",
            "d5bdba9b6b9d4fe68fa3a222765a8ca9",
            "f458b5f7eb504a278197b582f54e1bd7",
            "009903730bec4c45a94d6a4478000123",
            "d6173d8cd2614d63a1787ba9ad70c132"
          ]
        },
        "collapsed": true,
        "id": "o9FmfJTMvNjj",
        "outputId": "9b17e996-fb6d-4e86-b0be-5fc5547690bf"
      },
      "outputs": [],
      "source": [
        "tokenizer=RobertaTokenizerFast.from_pretrained(\"microsoft/codebert-base\")\n",
        "device = torch.device(\"cuda\" if torch.cuda.is_available() else \"cpu\")\n",
        "model=RobertaForSequenceClassification.from_pretrained(\"microsoft/codebert-base\",\n",
        "                                                       num_labels=2).to(device)\n"
      ]
    },
    {
      "cell_type": "markdown",
      "metadata": {
        "id": "wXAuMFR3QiAr"
      },
      "source": [
        "# Fine tuneing with Optuna"
      ]
    },
    {
      "cell_type": "code",
      "execution_count": 12,
      "metadata": {
        "id": "2Uaqam7Fn-2g"
      },
      "outputs": [],
      "source": [
        "import optuna\n",
        "from optuna.samplers import TPESampler\n",
        "from optuna.pruners  import MedianPruner\n",
        "from sklearn.metrics import f1_score, accuracy_score, precision_score, recall_score, matthews_corrcoef\n",
        "import copy\n"
      ]
    },
    {
      "cell_type": "code",
      "execution_count": 15,
      "metadata": {
        "colab": {
          "base_uri": "https://localhost:8080/"
        },
        "id": "0iocKO9LKiv8",
        "outputId": "bcdc02bd-41e8-4169-d720-1ce1ce18e506"
      },
      "outputs": [
        {
          "name": "stderr",
          "output_type": "stream",
          "text": [
            "[I 2025-06-01 11:08:05,364] A new study created in memory with name: no-name-9aee56ff-2653-43a1-b832-286d1e940e2b\n"
          ]
        },
        {
          "name": "stdout",
          "output_type": "stream",
          "text": [
            "-----------------------------------------\n",
            "Starting trial: 0\n"
          ]
        },
        {
          "name": "stderr",
          "output_type": "stream",
          "text": [
            "Some weights of RobertaForSequenceClassification were not initialized from the model checkpoint at microsoft/codebert-base and are newly initialized: ['classifier.dense.bias', 'classifier.dense.weight', 'classifier.out_proj.bias', 'classifier.out_proj.weight']\n",
            "You should probably TRAIN this model on a down-stream task to be able to use it for predictions and inference.\n"
          ]
        },
        {
          "name": "stdout",
          "output_type": "stream",
          "text": [
            "[Trial 0 | Epoch 1] train_loss=0.5483 train_acc=0.719 val_loss=0.2060 val_acc=0.943 val_f1=0.518 val_prec=0.429 val_rec=0.654 val_mcc=0.501\n",
            "[Trial 0 | Epoch 2] train_loss=0.3350 train_acc=0.860 val_loss=0.2151 val_acc=0.936 val_f1=0.542 val_prec=0.405 val_rec=0.821 val_mcc=0.549\n",
            "[Trial 0 | Epoch 3] train_loss=0.2987 train_acc=0.880 val_loss=0.2175 val_acc=0.939 val_f1=0.538 val_prec=0.414 val_rec=0.769 val_mcc=0.537\n",
            "[Trial 0 | Epoch 4] train_loss=0.2811 train_acc=0.885 val_loss=0.2060 val_acc=0.937 val_f1=0.551 val_prec=0.411 val_rec=0.833 val_mcc=0.559\n",
            "[Trial 0 | Epoch 5] train_loss=0.2634 train_acc=0.894 val_loss=0.2030 val_acc=0.937 val_f1=0.557 val_prec=0.415 val_rec=0.846 val_mcc=0.566\n",
            "[Trial 0 | Epoch 6] train_loss=0.2373 train_acc=0.903 val_loss=0.2810 val_acc=0.904 val_f1=0.464 val_prec=0.312 val_rec=0.897 val_mcc=0.496\n",
            "[Trial 0 | Epoch 7] train_loss=0.2171 train_acc=0.916 val_loss=0.1401 val_acc=0.958 val_f1=0.643 val_prec=0.529 val_rec=0.821 val_mcc=0.639\n"
          ]
        },
        {
          "name": "stderr",
          "output_type": "stream",
          "text": [
            "[I 2025-06-01 11:25:07,531] Trial 0 finished with value: 0.6432160804020101 and parameters: {'learning_rate': 1e-05, 'batch_size': 32, 'weight_decay': 0.01, 'max_seq_length': 512}. Best is trial 0 with value: 0.6432160804020101.\n"
          ]
        },
        {
          "name": "stdout",
          "output_type": "stream",
          "text": [
            "[Trial 0 | Epoch 8] train_loss=0.1963 train_acc=0.923 val_loss=0.2065 val_acc=0.939 val_f1=0.562 val_prec=0.420 val_rec=0.846 val_mcc=0.571\n",
            "-----------------------------------------\n",
            "Starting trial: 1\n"
          ]
        },
        {
          "name": "stderr",
          "output_type": "stream",
          "text": [
            "Some weights of RobertaForSequenceClassification were not initialized from the model checkpoint at microsoft/codebert-base and are newly initialized: ['classifier.dense.bias', 'classifier.dense.weight', 'classifier.out_proj.bias', 'classifier.out_proj.weight']\n",
            "You should probably TRAIN this model on a down-stream task to be able to use it for predictions and inference.\n"
          ]
        },
        {
          "name": "stdout",
          "output_type": "stream",
          "text": [
            "[Trial 1 | Epoch 1] train_loss=0.6309 train_acc=0.659 val_loss=0.4500 val_acc=0.795 val_f1=0.235 val_prec=0.142 val_rec=0.679 val_mcc=0.243\n",
            "[Trial 1 | Epoch 2] train_loss=0.4615 train_acc=0.794 val_loss=0.2263 val_acc=0.929 val_f1=0.487 val_prec=0.365 val_rec=0.731 val_mcc=0.485\n",
            "[Trial 1 | Epoch 3] train_loss=0.3414 train_acc=0.858 val_loss=0.1704 val_acc=0.957 val_f1=0.600 val_prec=0.529 val_rec=0.692 val_mcc=0.584\n",
            "[Trial 1 | Epoch 4] train_loss=0.3164 train_acc=0.871 val_loss=0.2135 val_acc=0.937 val_f1=0.529 val_prec=0.407 val_rec=0.756 val_mcc=0.527\n"
          ]
        },
        {
          "name": "stderr",
          "output_type": "stream",
          "text": [
            "[I 2025-06-01 11:35:52,305] Trial 1 finished with value: 0.6 and parameters: {'learning_rate': 2e-06, 'batch_size': 16, 'weight_decay': 0.01, 'max_seq_length': 512}. Best is trial 0 with value: 0.6432160804020101.\n"
          ]
        },
        {
          "name": "stdout",
          "output_type": "stream",
          "text": [
            "Early‐stopping at epoch 5\n",
            "-----------------------------------------\n",
            "Starting trial: 2\n"
          ]
        },
        {
          "name": "stderr",
          "output_type": "stream",
          "text": [
            "Some weights of RobertaForSequenceClassification were not initialized from the model checkpoint at microsoft/codebert-base and are newly initialized: ['classifier.dense.bias', 'classifier.dense.weight', 'classifier.out_proj.bias', 'classifier.out_proj.weight']\n",
            "You should probably TRAIN this model on a down-stream task to be able to use it for predictions and inference.\n"
          ]
        },
        {
          "name": "stdout",
          "output_type": "stream",
          "text": [
            "[Trial 2 | Epoch 1] train_loss=0.6930 train_acc=0.526 val_loss=0.7539 val_acc=0.046 val_f1=0.089 val_prec=0.046 val_rec=1.000 val_mcc=0.000\n",
            "[Trial 2 | Epoch 2] train_loss=0.6981 train_acc=0.508 val_loss=0.7155 val_acc=0.046 val_f1=0.089 val_prec=0.046 val_rec=1.000 val_mcc=0.000\n"
          ]
        },
        {
          "name": "stderr",
          "output_type": "stream",
          "text": [
            "[I 2025-06-01 11:42:17,931] Trial 2 finished with value: 0.0887877063175868 and parameters: {'learning_rate': 5e-05, 'batch_size': 16, 'weight_decay': 0.0, 'max_seq_length': 512}. Best is trial 0 with value: 0.6432160804020101.\n"
          ]
        },
        {
          "name": "stdout",
          "output_type": "stream",
          "text": [
            "Early‐stopping at epoch 3\n",
            "-----------------------------------------\n",
            "Starting trial: 3\n"
          ]
        },
        {
          "name": "stderr",
          "output_type": "stream",
          "text": [
            "Some weights of RobertaForSequenceClassification were not initialized from the model checkpoint at microsoft/codebert-base and are newly initialized: ['classifier.dense.bias', 'classifier.dense.weight', 'classifier.out_proj.bias', 'classifier.out_proj.weight']\n",
            "You should probably TRAIN this model on a down-stream task to be able to use it for predictions and inference.\n"
          ]
        },
        {
          "name": "stdout",
          "output_type": "stream",
          "text": [
            "[Trial 3 | Epoch 1] train_loss=0.4688 train_acc=0.770 val_loss=0.1846 val_acc=0.946 val_f1=0.531 val_prec=0.447 val_rec=0.654 val_mcc=0.514\n",
            "[Trial 3 | Epoch 2] train_loss=0.3162 train_acc=0.865 val_loss=0.1820 val_acc=0.949 val_f1=0.594 val_prec=0.470 val_rec=0.808 val_mcc=0.593\n",
            "[Trial 3 | Epoch 3] train_loss=0.2542 train_acc=0.900 val_loss=0.2296 val_acc=0.911 val_f1=0.464 val_prec=0.322 val_rec=0.833 val_mcc=0.484\n"
          ]
        },
        {
          "name": "stderr",
          "output_type": "stream",
          "text": [
            "[I 2025-06-01 11:51:10,634] Trial 3 finished with value: 0.5943396226415094 and parameters: {'learning_rate': 1e-05, 'batch_size': 8, 'weight_decay': 0.1, 'max_seq_length': 512}. Best is trial 0 with value: 0.6432160804020101.\n"
          ]
        },
        {
          "name": "stdout",
          "output_type": "stream",
          "text": [
            "Early‐stopping at epoch 4\n",
            "-----------------------------------------\n",
            "Starting trial: 4\n"
          ]
        },
        {
          "name": "stderr",
          "output_type": "stream",
          "text": [
            "Some weights of RobertaForSequenceClassification were not initialized from the model checkpoint at microsoft/codebert-base and are newly initialized: ['classifier.dense.bias', 'classifier.dense.weight', 'classifier.out_proj.bias', 'classifier.out_proj.weight']\n",
            "You should probably TRAIN this model on a down-stream task to be able to use it for predictions and inference.\n"
          ]
        },
        {
          "name": "stdout",
          "output_type": "stream",
          "text": [
            "[Trial 4 | Epoch 1] train_loss=0.5174 train_acc=0.746 val_loss=0.3538 val_acc=0.867 val_f1=0.372 val_prec=0.238 val_rec=0.846 val_mcc=0.405\n",
            "[Trial 4 | Epoch 2] train_loss=0.3245 train_acc=0.865 val_loss=0.2879 val_acc=0.912 val_f1=0.471 val_prec=0.327 val_rec=0.846 val_mcc=0.492\n",
            "[Trial 4 | Epoch 3] train_loss=0.2805 train_acc=0.891 val_loss=0.1905 val_acc=0.956 val_f1=0.615 val_prec=0.518 val_rec=0.756 val_mcc=0.604\n",
            "[Trial 4 | Epoch 4] train_loss=0.2455 train_acc=0.902 val_loss=0.2154 val_acc=0.937 val_f1=0.557 val_prec=0.415 val_rec=0.846 val_mcc=0.566\n"
          ]
        },
        {
          "name": "stderr",
          "output_type": "stream",
          "text": [
            "[I 2025-06-01 12:01:52,756] Trial 4 finished with value: 0.6145833333333334 and parameters: {'learning_rate': 1e-05, 'batch_size': 16, 'weight_decay': 0.0, 'max_seq_length': 512}. Best is trial 0 with value: 0.6432160804020101.\n"
          ]
        },
        {
          "name": "stdout",
          "output_type": "stream",
          "text": [
            "Early‐stopping at epoch 5\n",
            "-----------------------------------------\n",
            "Starting trial: 5\n"
          ]
        },
        {
          "name": "stderr",
          "output_type": "stream",
          "text": [
            "Some weights of RobertaForSequenceClassification were not initialized from the model checkpoint at microsoft/codebert-base and are newly initialized: ['classifier.dense.bias', 'classifier.dense.weight', 'classifier.out_proj.bias', 'classifier.out_proj.weight']\n",
            "You should probably TRAIN this model on a down-stream task to be able to use it for predictions and inference.\n",
            "[I 2025-06-01 12:04:01,510] Trial 5 pruned. \n"
          ]
        },
        {
          "name": "stdout",
          "output_type": "stream",
          "text": [
            "-----------------------------------------\n",
            "Starting trial: 6\n"
          ]
        },
        {
          "name": "stderr",
          "output_type": "stream",
          "text": [
            "Some weights of RobertaForSequenceClassification were not initialized from the model checkpoint at microsoft/codebert-base and are newly initialized: ['classifier.dense.bias', 'classifier.dense.weight', 'classifier.out_proj.bias', 'classifier.out_proj.weight']\n",
            "You should probably TRAIN this model on a down-stream task to be able to use it for predictions and inference.\n",
            "[I 2025-06-01 12:06:11,110] Trial 6 pruned. \n"
          ]
        },
        {
          "name": "stdout",
          "output_type": "stream",
          "text": [
            "-----------------------------------------\n",
            "Starting trial: 7\n"
          ]
        },
        {
          "name": "stderr",
          "output_type": "stream",
          "text": [
            "Some weights of RobertaForSequenceClassification were not initialized from the model checkpoint at microsoft/codebert-base and are newly initialized: ['classifier.dense.bias', 'classifier.dense.weight', 'classifier.out_proj.bias', 'classifier.out_proj.weight']\n",
            "You should probably TRAIN this model on a down-stream task to be able to use it for predictions and inference.\n",
            "[I 2025-06-01 12:08:25,051] Trial 7 pruned. \n"
          ]
        },
        {
          "name": "stdout",
          "output_type": "stream",
          "text": [
            "-----------------------------------------\n",
            "Starting trial: 8\n"
          ]
        },
        {
          "name": "stderr",
          "output_type": "stream",
          "text": [
            "Some weights of RobertaForSequenceClassification were not initialized from the model checkpoint at microsoft/codebert-base and are newly initialized: ['classifier.dense.bias', 'classifier.dense.weight', 'classifier.out_proj.bias', 'classifier.out_proj.weight']\n",
            "You should probably TRAIN this model on a down-stream task to be able to use it for predictions and inference.\n",
            "[I 2025-06-01 12:10:34,179] Trial 8 pruned. \n"
          ]
        },
        {
          "name": "stdout",
          "output_type": "stream",
          "text": [
            "-----------------------------------------\n",
            "Starting trial: 9\n"
          ]
        },
        {
          "name": "stderr",
          "output_type": "stream",
          "text": [
            "Some weights of RobertaForSequenceClassification were not initialized from the model checkpoint at microsoft/codebert-base and are newly initialized: ['classifier.dense.bias', 'classifier.dense.weight', 'classifier.out_proj.bias', 'classifier.out_proj.weight']\n",
            "You should probably TRAIN this model on a down-stream task to be able to use it for predictions and inference.\n"
          ]
        },
        {
          "name": "stdout",
          "output_type": "stream",
          "text": [
            "[Trial 9 | Epoch 1] train_loss=0.4610 train_acc=0.779 val_loss=0.2883 val_acc=0.886 val_f1=0.396 val_prec=0.263 val_rec=0.808 val_mcc=0.419\n",
            "[Trial 9 | Epoch 2] train_loss=0.3266 train_acc=0.868 val_loss=0.2004 val_acc=0.937 val_f1=0.549 val_prec=0.413 val_rec=0.821 val_mcc=0.555\n",
            "[Trial 9 | Epoch 3] train_loss=0.2703 train_acc=0.889 val_loss=0.2800 val_acc=0.899 val_f1=0.439 val_prec=0.296 val_rec=0.846 val_mcc=0.464\n"
          ]
        },
        {
          "name": "stderr",
          "output_type": "stream",
          "text": [
            "[I 2025-06-01 12:19:23,177] Trial 9 finished with value: 0.5493562231759657 and parameters: {'learning_rate': 3e-05, 'batch_size': 8, 'weight_decay': 0.0, 'max_seq_length': 512}. Best is trial 0 with value: 0.6432160804020101.\n"
          ]
        },
        {
          "name": "stdout",
          "output_type": "stream",
          "text": [
            "Early‐stopping at epoch 4\n",
            "-----------------------------------------\n",
            "Starting trial: 10\n"
          ]
        },
        {
          "name": "stderr",
          "output_type": "stream",
          "text": [
            "Some weights of RobertaForSequenceClassification were not initialized from the model checkpoint at microsoft/codebert-base and are newly initialized: ['classifier.dense.bias', 'classifier.dense.weight', 'classifier.out_proj.bias', 'classifier.out_proj.weight']\n",
            "You should probably TRAIN this model on a down-stream task to be able to use it for predictions and inference.\n",
            "[I 2025-06-01 12:21:31,879] Trial 10 pruned. \n"
          ]
        },
        {
          "name": "stdout",
          "output_type": "stream",
          "text": [
            "-----------------------------------------\n",
            "Starting trial: 11\n"
          ]
        },
        {
          "name": "stderr",
          "output_type": "stream",
          "text": [
            "Some weights of RobertaForSequenceClassification were not initialized from the model checkpoint at microsoft/codebert-base and are newly initialized: ['classifier.dense.bias', 'classifier.dense.weight', 'classifier.out_proj.bias', 'classifier.out_proj.weight']\n",
            "You should probably TRAIN this model on a down-stream task to be able to use it for predictions and inference.\n"
          ]
        },
        {
          "name": "stdout",
          "output_type": "stream",
          "text": [
            "[Trial 11 | Epoch 1] train_loss=0.5369 train_acc=0.733 val_loss=0.2344 val_acc=0.925 val_f1=0.492 val_prec=0.359 val_rec=0.782 val_mcc=0.498\n"
          ]
        },
        {
          "name": "stderr",
          "output_type": "stream",
          "text": [
            "[I 2025-06-01 12:25:50,560] Trial 11 pruned. \n"
          ]
        },
        {
          "name": "stdout",
          "output_type": "stream",
          "text": [
            "-----------------------------------------\n",
            "Starting trial: 12\n"
          ]
        },
        {
          "name": "stderr",
          "output_type": "stream",
          "text": [
            "Some weights of RobertaForSequenceClassification were not initialized from the model checkpoint at microsoft/codebert-base and are newly initialized: ['classifier.dense.bias', 'classifier.dense.weight', 'classifier.out_proj.bias', 'classifier.out_proj.weight']\n",
            "You should probably TRAIN this model on a down-stream task to be able to use it for predictions and inference.\n",
            "[I 2025-06-01 12:27:58,911] Trial 12 pruned. \n"
          ]
        },
        {
          "name": "stdout",
          "output_type": "stream",
          "text": [
            "-----------------------------------------\n",
            "Starting trial: 13\n"
          ]
        },
        {
          "name": "stderr",
          "output_type": "stream",
          "text": [
            "Some weights of RobertaForSequenceClassification were not initialized from the model checkpoint at microsoft/codebert-base and are newly initialized: ['classifier.dense.bias', 'classifier.dense.weight', 'classifier.out_proj.bias', 'classifier.out_proj.weight']\n",
            "You should probably TRAIN this model on a down-stream task to be able to use it for predictions and inference.\n"
          ]
        },
        {
          "name": "stdout",
          "output_type": "stream",
          "text": [
            "[Trial 13 | Epoch 1] train_loss=0.5128 train_acc=0.742 val_loss=0.2634 val_acc=0.895 val_f1=0.401 val_prec=0.273 val_rec=0.756 val_mcc=0.414\n",
            "[Trial 13 | Epoch 2] train_loss=0.3221 train_acc=0.866 val_loss=0.2065 val_acc=0.932 val_f1=0.517 val_prec=0.386 val_rec=0.782 val_mcc=0.520\n",
            "[Trial 13 | Epoch 3] train_loss=0.2824 train_acc=0.887 val_loss=0.2088 val_acc=0.933 val_f1=0.537 val_prec=0.396 val_rec=0.833 val_mcc=0.547\n",
            "[Trial 13 | Epoch 4] train_loss=0.2423 train_acc=0.903 val_loss=0.1860 val_acc=0.938 val_f1=0.552 val_prec=0.416 val_rec=0.821 val_mcc=0.557\n",
            "[Trial 13 | Epoch 5] train_loss=0.2157 train_acc=0.913 val_loss=0.1842 val_acc=0.937 val_f1=0.549 val_prec=0.413 val_rec=0.821 val_mcc=0.555\n",
            "[Trial 13 | Epoch 6] train_loss=0.1804 train_acc=0.929 val_loss=0.1310 val_acc=0.961 val_f1=0.656 val_prec=0.559 val_rec=0.795 val_mcc=0.647\n",
            "[Trial 13 | Epoch 7] train_loss=0.1438 train_acc=0.945 val_loss=0.1899 val_acc=0.939 val_f1=0.558 val_prec=0.419 val_rec=0.833 val_mcc=0.565\n"
          ]
        },
        {
          "name": "stderr",
          "output_type": "stream",
          "text": [
            "[I 2025-06-01 12:45:10,443] Trial 13 finished with value: 0.656084656084656 and parameters: {'learning_rate': 1e-05, 'batch_size': 16, 'weight_decay': 0.01, 'max_seq_length': 512}. Best is trial 13 with value: 0.656084656084656.\n"
          ]
        },
        {
          "name": "stdout",
          "output_type": "stream",
          "text": [
            "Early‐stopping at epoch 8\n",
            "-----------------------------------------\n",
            "Starting trial: 14\n"
          ]
        },
        {
          "name": "stderr",
          "output_type": "stream",
          "text": [
            "Some weights of RobertaForSequenceClassification were not initialized from the model checkpoint at microsoft/codebert-base and are newly initialized: ['classifier.dense.bias', 'classifier.dense.weight', 'classifier.out_proj.bias', 'classifier.out_proj.weight']\n",
            "You should probably TRAIN this model on a down-stream task to be able to use it for predictions and inference.\n",
            "[I 2025-06-01 12:47:19,269] Trial 14 pruned. \n"
          ]
        },
        {
          "name": "stdout",
          "output_type": "stream",
          "text": [
            "Best params: {'learning_rate': 1e-05, 'batch_size': 16, 'weight_decay': 0.01, 'max_seq_length': 512}\n",
            "Best Val F1: 0.656084656084656\n"
          ]
        }
      ],
      "source": [
        "def objective(trial):\n",
        "    # Clear GPU cache\n",
        "    torch.cuda.empty_cache()\n",
        "\n",
        "    print(\"-----------------------------------------\")\n",
        "    print(\"Starting trial:\", trial.number)\n",
        "    # Sample hyper-parameters\n",
        "    lr  = trial.suggest_categorical(\"learning_rate\", [2e-6,1e-5,3e-5,5e-5,2e-4]) \n",
        "    bs  = trial.suggest_categorical(\"batch_size\", [8,16,32]) # 8,16\n",
        "    wd  = trial.suggest_categorical(\"weight_decay\", [0.0,0.01,0.1])  #0 an 0.01\n",
        "    msl = trial.suggest_categorical(\"max_seq_length\", [512])\n",
        "    max_epochs=8\n",
        "    patience=2\n",
        "\n",
        "    # model & optimizer\n",
        "    device = torch.device(\"cuda\" if torch.cuda.is_available() else \"cpu\")\n",
        "    tokenizer = RobertaTokenizerFast.from_pretrained(\"microsoft/codebert-base\")\n",
        "    model  = RobertaForSequenceClassification.from_pretrained(\n",
        "                 \"microsoft/codebert-base\", num_labels=2\n",
        "             ).to(device)\n",
        "    optimizer = optim.AdamW(model.parameters(), lr=lr, weight_decay=wd)\n",
        "\n",
        "    # Prepare data\n",
        "\n",
        "    train_ds  = CodeBERTDataset(train_dataset, tokenizer, msl)\n",
        "    val_ds    = CodeBERTDataset(validation_dataset,   tokenizer, msl)\n",
        "    train_loader = DataLoader(train_ds, batch_size=bs, shuffle=True,collate_fn=custom_collate_fn)\n",
        "    val_loader   = DataLoader(val_ds,   batch_size=bs, shuffle=False,collate_fn=custom_collate_fn)\n",
        "\n",
        "    # early stop and pruning setup\n",
        "    best_val_f1 = 0.0\n",
        "    best_weights=copy.deepcopy(model.state_dict())\n",
        "    wait= 0\n",
        "\n",
        "    #Training + validation loop\n",
        "    for epoch in range(max_epochs):\n",
        "\n",
        "        model.train()\n",
        "        train_loss = []\n",
        "        train_preds, train_labels = [], []\n",
        "\n",
        "        #train\n",
        "        for batch in train_loader:\n",
        "            optimizer.zero_grad()\n",
        "            out = model(\n",
        "                input_ids=batch[\"input_ids\"].to(device),\n",
        "                attention_mask=batch[\"attention_mask\"].to(device),\n",
        "                labels=batch[\"labels\"].to(device)\n",
        "            )\n",
        "            out.loss.backward()\n",
        "            optimizer.step()\n",
        "            train_loss.append(out.loss.item())\n",
        "            preds = out.logits.argmax(dim=1).cpu().tolist()\n",
        "            train_preds.extend(preds)\n",
        "            train_labels.extend(batch[\"labels\"].tolist())\n",
        "\n",
        "        # compute training metrics\n",
        "        train_loss=sum(train_loss)/len(train_loss)\n",
        "        train_acc=accuracy_score(train_labels, train_preds)\n",
        "\n",
        "        #Validation\n",
        "        model.eval()\n",
        "        val_loss=[]\n",
        "        val_preds, val_labels = [], []\n",
        "\n",
        "        with torch.no_grad():\n",
        "            for batch in val_loader:\n",
        "                input_ids = batch[\"input_ids\"].to(device)\n",
        "                attention_mask = batch[\"attention_mask\"].to(device)\n",
        "                labels = batch[\"labels\"].to(device)\n",
        "\n",
        "                out = model(\n",
        "                    input_ids=input_ids,\n",
        "                    attention_mask=attention_mask,\n",
        "                    labels=labels\n",
        "                )\n",
        "                val_loss.append(out.loss.item())\n",
        "                preds = out.logits.argmax(dim=1).cpu()\n",
        "\n",
        "                val_preds.extend(preds)\n",
        "                val_labels.extend(batch[\"labels\"].tolist())\n",
        "\n",
        "        # compute val‐set metrics\n",
        "        val_loss = sum(val_loss) / len(val_loss)\n",
        "        val_acc = accuracy_score(val_labels, val_preds)\n",
        "        val_prec = precision_score(val_labels, val_preds, zero_division=0)\n",
        "        val_rec = recall_score(val_labels, val_preds, zero_division=0)\n",
        "        val_f1 = f1_score(val_labels, val_preds, zero_division=0)\n",
        "        val_mcc = matthews_corrcoef(val_labels, val_preds)\n",
        "\n",
        "        # pruning\n",
        "        trial.report(val_f1, step=epoch)\n",
        "        if trial.should_prune():\n",
        "            raise optuna.exceptions.TrialPruned()\n",
        "\n",
        "        #Early‐stopping logic\n",
        "        if val_f1 > best_val_f1:\n",
        "            best_val_f1 = val_f1\n",
        "            best_weights = copy.deepcopy(model.state_dict())\n",
        "            wait = 0\n",
        "        else:\n",
        "            wait += 1\n",
        "            if wait >= patience:\n",
        "                print(f\"Early‐stopping at epoch {epoch + 1}\")\n",
        "                break\n",
        "\n",
        "        # epoch‐level log\n",
        "        print(f\"[Trial {trial.number} | Epoch {epoch + 1}]\",\n",
        "              f\"train_loss={train_loss:.4f}\", f\"train_acc={train_acc:.3f}\",\n",
        "              f\"val_loss={val_loss:.4f}\", f\"val_acc={val_acc:.3f}\",\n",
        "              f\"val_f1={val_f1:.3f}\", f\"val_prec={val_prec:.3f}\",\n",
        "              f\"val_rec={val_rec:.3f}\", f\"val_mcc={val_mcc:.3f}\")\n",
        "\n",
        "\n",
        "    # restore best model weights before returning\n",
        "    model.load_state_dict(best_weights)\n",
        "    return best_val_f1\n",
        "\n",
        "\n",
        "#Create & run study\n",
        "study = optuna.create_study(direction=\"maximize\",\n",
        "                            sampler=TPESampler(seed=42),\n",
        "                            pruner=MedianPruner(n_startup_trials=5, interval_steps=1)\n",
        "                            )\n",
        "study.optimize(objective, n_trials=15)\n",
        "\n",
        "print(\"Best params:\", study.best_trial.params)\n",
        "print(\"Best Val F1:\", study.best_trial.value)\n",
        "\n"
      ]
    },
    {
      "cell_type": "code",
      "execution_count": 16,
      "metadata": {},
      "outputs": [
        {
          "name": "stdout",
          "output_type": "stream",
          "text": [
            "\n",
            "Optimization History:\n",
            "--------------------------------------------------\n",
            "Trial 0:\n",
            "Value (F1): 0.6432160804020101\n",
            "Params: {'learning_rate': 1e-05, 'batch_size': 32, 'weight_decay': 0.01, 'max_seq_length': 512}\n",
            "------------------------------\n",
            "Trial 1:\n",
            "Value (F1): 0.6\n",
            "Params: {'learning_rate': 2e-06, 'batch_size': 16, 'weight_decay': 0.01, 'max_seq_length': 512}\n",
            "------------------------------\n",
            "Trial 2:\n",
            "Value (F1): 0.0887877063175868\n",
            "Params: {'learning_rate': 5e-05, 'batch_size': 16, 'weight_decay': 0.0, 'max_seq_length': 512}\n",
            "------------------------------\n",
            "Trial 3:\n",
            "Value (F1): 0.5943396226415094\n",
            "Params: {'learning_rate': 1e-05, 'batch_size': 8, 'weight_decay': 0.1, 'max_seq_length': 512}\n",
            "------------------------------\n",
            "Trial 4:\n",
            "Value (F1): 0.6145833333333334\n",
            "Params: {'learning_rate': 1e-05, 'batch_size': 16, 'weight_decay': 0.0, 'max_seq_length': 512}\n",
            "------------------------------\n",
            "Trial 5:\n",
            "Value (F1): 0.15841584158415842\n",
            "Params: {'learning_rate': 2e-06, 'batch_size': 32, 'weight_decay': 0.1, 'max_seq_length': 512}\n",
            "------------------------------\n",
            "Trial 6:\n",
            "Value (F1): 0.24338624338624337\n",
            "Params: {'learning_rate': 5e-05, 'batch_size': 32, 'weight_decay': 0.1, 'max_seq_length': 512}\n",
            "------------------------------\n",
            "Trial 7:\n",
            "Value (F1): 0.28162291169451076\n",
            "Params: {'learning_rate': 5e-05, 'batch_size': 8, 'weight_decay': 0.01, 'max_seq_length': 512}\n",
            "------------------------------\n",
            "Trial 8:\n",
            "Value (F1): 0.22065727699530516\n",
            "Params: {'learning_rate': 2e-06, 'batch_size': 16, 'weight_decay': 0.0, 'max_seq_length': 512}\n",
            "------------------------------\n",
            "Trial 9:\n",
            "Value (F1): 0.5493562231759657\n",
            "Params: {'learning_rate': 3e-05, 'batch_size': 8, 'weight_decay': 0.0, 'max_seq_length': 512}\n",
            "------------------------------\n",
            "Trial 10:\n",
            "Value (F1): 0.0887877063175868\n",
            "Params: {'learning_rate': 0.0002, 'batch_size': 32, 'weight_decay': 0.01, 'max_seq_length': 512}\n",
            "------------------------------\n",
            "Trial 11:\n",
            "Value (F1): 0.4266666666666667\n",
            "Params: {'learning_rate': 1e-05, 'batch_size': 16, 'weight_decay': 0.01, 'max_seq_length': 512}\n",
            "------------------------------\n",
            "Trial 12:\n",
            "Value (F1): 0.2827868852459016\n",
            "Params: {'learning_rate': 1e-05, 'batch_size': 32, 'weight_decay': 0.0, 'max_seq_length': 512}\n",
            "------------------------------\n",
            "Trial 13:\n",
            "Value (F1): 0.656084656084656\n",
            "Params: {'learning_rate': 1e-05, 'batch_size': 16, 'weight_decay': 0.01, 'max_seq_length': 512}\n",
            "------------------------------\n",
            "Trial 14:\n",
            "Value (F1): 0.3604060913705584\n",
            "Params: {'learning_rate': 1e-05, 'batch_size': 32, 'weight_decay': 0.01, 'max_seq_length': 512}\n",
            "------------------------------\n",
            "\n",
            "Best Trial:\n",
            "--------------------------------------------------\n",
            "Value (F1): 0.656084656084656\n",
            "Params:\n",
            "    learning_rate: 1e-05\n",
            "    batch_size: 16\n",
            "    weight_decay: 0.01\n",
            "    max_seq_length: 512\n"
          ]
        }
      ],
      "source": [
        "# 1) Print optimization history\n",
        "print(\"\\nOptimization History:\")\n",
        "print(\"-\" * 50)\n",
        "for trial in study.trials:\n",
        "    print(f\"Trial {trial.number}:\")\n",
        "    print(f\"Value (F1): {trial.value}\")\n",
        "    print(f\"Params: {trial.params}\")\n",
        "    print(\"-\" * 30)\n",
        "\n",
        "# 2) Print best trial\n",
        "print(\"\\nBest Trial:\")\n",
        "print(\"-\" * 50)\n",
        "print(f\"Value (F1): {study.best_trial.value}\")\n",
        "print(\"Params:\")\n",
        "for key, value in study.best_trial.params.items():\n",
        "    print(f\"    {key}: {value}\")"
      ]
    }
  ],
  "metadata": {
    "accelerator": "GPU",
    "colab": {
      "collapsed_sections": [
        "DXbK3lSyvfI2"
      ],
      "gpuType": "T4",
      "provenance": []
    },
    "kernelspec": {
      "display_name": "Python3 (ipykernel)",
      "language": "python",
      "name": "python3"
    },
    "widgets": {
      "application/vnd.jupyter.widget-state+json": {
        "009903730bec4c45a94d6a4478000123": {
          "model_module": "@jupyter-widgets/base",
          "model_module_version": "1.2.0",
          "model_name": "LayoutModel",
          "state": {
            "_model_module": "@jupyter-widgets/base",
            "_model_module_version": "1.2.0",
            "_model_name": "LayoutModel",
            "_view_count": null,
            "_view_module": "@jupyter-widgets/base",
            "_view_module_version": "1.2.0",
            "_view_name": "LayoutView",
            "align_content": null,
            "align_items": null,
            "align_self": null,
            "border": null,
            "bottom": null,
            "display": null,
            "flex": null,
            "flex_flow": null,
            "grid_area": null,
            "grid_auto_columns": null,
            "grid_auto_flow": null,
            "grid_auto_rows": null,
            "grid_column": null,
            "grid_gap": null,
            "grid_row": null,
            "grid_template_areas": null,
            "grid_template_columns": null,
            "grid_template_rows": null,
            "height": null,
            "justify_content": null,
            "justify_items": null,
            "left": null,
            "margin": null,
            "max_height": null,
            "max_width": null,
            "min_height": null,
            "min_width": null,
            "object_fit": null,
            "object_position": null,
            "order": null,
            "overflow": null,
            "overflow_x": null,
            "overflow_y": null,
            "padding": null,
            "right": null,
            "top": null,
            "visibility": null,
            "width": null
          }
        },
        "01d740979f47467c94233b7aac08e31b": {
          "model_module": "@jupyter-widgets/controls",
          "model_module_version": "1.5.0",
          "model_name": "ProgressStyleModel",
          "state": {
            "_model_module": "@jupyter-widgets/controls",
            "_model_module_version": "1.5.0",
            "_model_name": "ProgressStyleModel",
            "_view_count": null,
            "_view_module": "@jupyter-widgets/base",
            "_view_module_version": "1.2.0",
            "_view_name": "StyleView",
            "bar_color": null,
            "description_width": ""
          }
        },
        "030607ef6fe84fee8007446cb509be61": {
          "model_module": "@jupyter-widgets/base",
          "model_module_version": "1.2.0",
          "model_name": "LayoutModel",
          "state": {
            "_model_module": "@jupyter-widgets/base",
            "_model_module_version": "1.2.0",
            "_model_name": "LayoutModel",
            "_view_count": null,
            "_view_module": "@jupyter-widgets/base",
            "_view_module_version": "1.2.0",
            "_view_name": "LayoutView",
            "align_content": null,
            "align_items": null,
            "align_self": null,
            "border": null,
            "bottom": null,
            "display": null,
            "flex": null,
            "flex_flow": null,
            "grid_area": null,
            "grid_auto_columns": null,
            "grid_auto_flow": null,
            "grid_auto_rows": null,
            "grid_column": null,
            "grid_gap": null,
            "grid_row": null,
            "grid_template_areas": null,
            "grid_template_columns": null,
            "grid_template_rows": null,
            "height": null,
            "justify_content": null,
            "justify_items": null,
            "left": null,
            "margin": null,
            "max_height": null,
            "max_width": null,
            "min_height": null,
            "min_width": null,
            "object_fit": null,
            "object_position": null,
            "order": null,
            "overflow": null,
            "overflow_x": null,
            "overflow_y": null,
            "padding": null,
            "right": null,
            "top": null,
            "visibility": null,
            "width": null
          }
        },
        "0902c22a5bce4a6f896091e4c96beacf": {
          "model_module": "@jupyter-widgets/controls",
          "model_module_version": "1.5.0",
          "model_name": "FloatProgressModel",
          "state": {
            "_dom_classes": [],
            "_model_module": "@jupyter-widgets/controls",
            "_model_module_version": "1.5.0",
            "_model_name": "FloatProgressModel",
            "_view_count": null,
            "_view_module": "@jupyter-widgets/controls",
            "_view_module_version": "1.5.0",
            "_view_name": "ProgressView",
            "bar_style": "success",
            "description": "",
            "description_tooltip": null,
            "layout": "IPY_MODEL_bba0ab96300c4bb691d4d025168e8fc2",
            "max": 150,
            "min": 0,
            "orientation": "horizontal",
            "style": "IPY_MODEL_fa9410ef174243b1988a0aa63ca38cfe",
            "value": 150
          }
        },
        "0c872cc3525f442f8f85c35a9a283bc9": {
          "model_module": "@jupyter-widgets/base",
          "model_module_version": "1.2.0",
          "model_name": "LayoutModel",
          "state": {
            "_model_module": "@jupyter-widgets/base",
            "_model_module_version": "1.2.0",
            "_model_name": "LayoutModel",
            "_view_count": null,
            "_view_module": "@jupyter-widgets/base",
            "_view_module_version": "1.2.0",
            "_view_name": "LayoutView",
            "align_content": null,
            "align_items": null,
            "align_self": null,
            "border": null,
            "bottom": null,
            "display": null,
            "flex": null,
            "flex_flow": null,
            "grid_area": null,
            "grid_auto_columns": null,
            "grid_auto_flow": null,
            "grid_auto_rows": null,
            "grid_column": null,
            "grid_gap": null,
            "grid_row": null,
            "grid_template_areas": null,
            "grid_template_columns": null,
            "grid_template_rows": null,
            "height": null,
            "justify_content": null,
            "justify_items": null,
            "left": null,
            "margin": null,
            "max_height": null,
            "max_width": null,
            "min_height": null,
            "min_width": null,
            "object_fit": null,
            "object_position": null,
            "order": null,
            "overflow": null,
            "overflow_x": null,
            "overflow_y": null,
            "padding": null,
            "right": null,
            "top": null,
            "visibility": null,
            "width": null
          }
        },
        "0d5dccf3b8dc4808955bf6ad18cf1bf0": {
          "model_module": "@jupyter-widgets/controls",
          "model_module_version": "1.5.0",
          "model_name": "DescriptionStyleModel",
          "state": {
            "_model_module": "@jupyter-widgets/controls",
            "_model_module_version": "1.5.0",
            "_model_name": "DescriptionStyleModel",
            "_view_count": null,
            "_view_module": "@jupyter-widgets/base",
            "_view_module_version": "1.2.0",
            "_view_name": "StyleView",
            "description_width": ""
          }
        },
        "13151feabdd544dfbfbd017e17fc19d9": {
          "model_module": "@jupyter-widgets/base",
          "model_module_version": "1.2.0",
          "model_name": "LayoutModel",
          "state": {
            "_model_module": "@jupyter-widgets/base",
            "_model_module_version": "1.2.0",
            "_model_name": "LayoutModel",
            "_view_count": null,
            "_view_module": "@jupyter-widgets/base",
            "_view_module_version": "1.2.0",
            "_view_name": "LayoutView",
            "align_content": null,
            "align_items": null,
            "align_self": null,
            "border": null,
            "bottom": null,
            "display": null,
            "flex": null,
            "flex_flow": null,
            "grid_area": null,
            "grid_auto_columns": null,
            "grid_auto_flow": null,
            "grid_auto_rows": null,
            "grid_column": null,
            "grid_gap": null,
            "grid_row": null,
            "grid_template_areas": null,
            "grid_template_columns": null,
            "grid_template_rows": null,
            "height": null,
            "justify_content": null,
            "justify_items": null,
            "left": null,
            "margin": null,
            "max_height": null,
            "max_width": null,
            "min_height": null,
            "min_width": null,
            "object_fit": null,
            "object_position": null,
            "order": null,
            "overflow": null,
            "overflow_x": null,
            "overflow_y": null,
            "padding": null,
            "right": null,
            "top": null,
            "visibility": null,
            "width": null
          }
        },
        "2324fa453fe7472f80d7e71a12b7abc3": {
          "model_module": "@jupyter-widgets/controls",
          "model_module_version": "1.5.0",
          "model_name": "HTMLModel",
          "state": {
            "_dom_classes": [],
            "_model_module": "@jupyter-widgets/controls",
            "_model_module_version": "1.5.0",
            "_model_name": "HTMLModel",
            "_view_count": null,
            "_view_module": "@jupyter-widgets/controls",
            "_view_module_version": "1.5.0",
            "_view_name": "HTMLView",
            "description": "",
            "description_tooltip": null,
            "layout": "IPY_MODEL_92c3444219c149e4b28798bee888572c",
            "placeholder": "​",
            "style": "IPY_MODEL_ca2f67bcf60c48a69d82e49bc967785a",
            "value": "pytorch_model.bin: 100%"
          }
        },
        "2831f175c58d4df1bdca7ab51580a585": {
          "model_module": "@jupyter-widgets/controls",
          "model_module_version": "1.5.0",
          "model_name": "HTMLModel",
          "state": {
            "_dom_classes": [],
            "_model_module": "@jupyter-widgets/controls",
            "_model_module_version": "1.5.0",
            "_model_name": "HTMLModel",
            "_view_count": null,
            "_view_module": "@jupyter-widgets/controls",
            "_view_module_version": "1.5.0",
            "_view_name": "HTMLView",
            "description": "",
            "description_tooltip": null,
            "layout": "IPY_MODEL_b83c333bc50847b4ba38bf6a976c3b7e",
            "placeholder": "​",
            "style": "IPY_MODEL_35ffec9c3ef84ac285f5847c0ceddcc0",
            "value": " 498/498 [00:00&lt;00:00, 46.0kB/s]"
          }
        },
        "33a7a108cae44c90a8182e3c75f6b379": {
          "model_module": "@jupyter-widgets/base",
          "model_module_version": "1.2.0",
          "model_name": "LayoutModel",
          "state": {
            "_model_module": "@jupyter-widgets/base",
            "_model_module_version": "1.2.0",
            "_model_name": "LayoutModel",
            "_view_count": null,
            "_view_module": "@jupyter-widgets/base",
            "_view_module_version": "1.2.0",
            "_view_name": "LayoutView",
            "align_content": null,
            "align_items": null,
            "align_self": null,
            "border": null,
            "bottom": null,
            "display": null,
            "flex": null,
            "flex_flow": null,
            "grid_area": null,
            "grid_auto_columns": null,
            "grid_auto_flow": null,
            "grid_auto_rows": null,
            "grid_column": null,
            "grid_gap": null,
            "grid_row": null,
            "grid_template_areas": null,
            "grid_template_columns": null,
            "grid_template_rows": null,
            "height": null,
            "justify_content": null,
            "justify_items": null,
            "left": null,
            "margin": null,
            "max_height": null,
            "max_width": null,
            "min_height": null,
            "min_width": null,
            "object_fit": null,
            "object_position": null,
            "order": null,
            "overflow": null,
            "overflow_x": null,
            "overflow_y": null,
            "padding": null,
            "right": null,
            "top": null,
            "visibility": null,
            "width": null
          }
        },
        "34a20f6a820d454f82a7b61577a8dc1f": {
          "model_module": "@jupyter-widgets/base",
          "model_module_version": "1.2.0",
          "model_name": "LayoutModel",
          "state": {
            "_model_module": "@jupyter-widgets/base",
            "_model_module_version": "1.2.0",
            "_model_name": "LayoutModel",
            "_view_count": null,
            "_view_module": "@jupyter-widgets/base",
            "_view_module_version": "1.2.0",
            "_view_name": "LayoutView",
            "align_content": null,
            "align_items": null,
            "align_self": null,
            "border": null,
            "bottom": null,
            "display": null,
            "flex": null,
            "flex_flow": null,
            "grid_area": null,
            "grid_auto_columns": null,
            "grid_auto_flow": null,
            "grid_auto_rows": null,
            "grid_column": null,
            "grid_gap": null,
            "grid_row": null,
            "grid_template_areas": null,
            "grid_template_columns": null,
            "grid_template_rows": null,
            "height": null,
            "justify_content": null,
            "justify_items": null,
            "left": null,
            "margin": null,
            "max_height": null,
            "max_width": null,
            "min_height": null,
            "min_width": null,
            "object_fit": null,
            "object_position": null,
            "order": null,
            "overflow": null,
            "overflow_x": null,
            "overflow_y": null,
            "padding": null,
            "right": null,
            "top": null,
            "visibility": null,
            "width": null
          }
        },
        "35ffec9c3ef84ac285f5847c0ceddcc0": {
          "model_module": "@jupyter-widgets/controls",
          "model_module_version": "1.5.0",
          "model_name": "DescriptionStyleModel",
          "state": {
            "_model_module": "@jupyter-widgets/controls",
            "_model_module_version": "1.5.0",
            "_model_name": "DescriptionStyleModel",
            "_view_count": null,
            "_view_module": "@jupyter-widgets/base",
            "_view_module_version": "1.2.0",
            "_view_name": "StyleView",
            "description_width": ""
          }
        },
        "3622c40246cd4c418d6b0be87a8eabe3": {
          "model_module": "@jupyter-widgets/base",
          "model_module_version": "1.2.0",
          "model_name": "LayoutModel",
          "state": {
            "_model_module": "@jupyter-widgets/base",
            "_model_module_version": "1.2.0",
            "_model_name": "LayoutModel",
            "_view_count": null,
            "_view_module": "@jupyter-widgets/base",
            "_view_module_version": "1.2.0",
            "_view_name": "LayoutView",
            "align_content": null,
            "align_items": null,
            "align_self": null,
            "border": null,
            "bottom": null,
            "display": null,
            "flex": null,
            "flex_flow": null,
            "grid_area": null,
            "grid_auto_columns": null,
            "grid_auto_flow": null,
            "grid_auto_rows": null,
            "grid_column": null,
            "grid_gap": null,
            "grid_row": null,
            "grid_template_areas": null,
            "grid_template_columns": null,
            "grid_template_rows": null,
            "height": null,
            "justify_content": null,
            "justify_items": null,
            "left": null,
            "margin": null,
            "max_height": null,
            "max_width": null,
            "min_height": null,
            "min_width": null,
            "object_fit": null,
            "object_position": null,
            "order": null,
            "overflow": null,
            "overflow_x": null,
            "overflow_y": null,
            "padding": null,
            "right": null,
            "top": null,
            "visibility": null,
            "width": null
          }
        },
        "369498116cac4ae09ff455d632984758": {
          "model_module": "@jupyter-widgets/controls",
          "model_module_version": "1.5.0",
          "model_name": "ProgressStyleModel",
          "state": {
            "_model_module": "@jupyter-widgets/controls",
            "_model_module_version": "1.5.0",
            "_model_name": "ProgressStyleModel",
            "_view_count": null,
            "_view_module": "@jupyter-widgets/base",
            "_view_module_version": "1.2.0",
            "_view_name": "StyleView",
            "bar_color": null,
            "description_width": ""
          }
        },
        "3a53b42b225a4cb29a961c1d81049f35": {
          "model_module": "@jupyter-widgets/controls",
          "model_module_version": "1.5.0",
          "model_name": "DescriptionStyleModel",
          "state": {
            "_model_module": "@jupyter-widgets/controls",
            "_model_module_version": "1.5.0",
            "_model_name": "DescriptionStyleModel",
            "_view_count": null,
            "_view_module": "@jupyter-widgets/base",
            "_view_module_version": "1.2.0",
            "_view_name": "StyleView",
            "description_width": ""
          }
        },
        "3d907c30a2634364a64a67d7c20f15d5": {
          "model_module": "@jupyter-widgets/controls",
          "model_module_version": "1.5.0",
          "model_name": "HTMLModel",
          "state": {
            "_dom_classes": [],
            "_model_module": "@jupyter-widgets/controls",
            "_model_module_version": "1.5.0",
            "_model_name": "HTMLModel",
            "_view_count": null,
            "_view_module": "@jupyter-widgets/controls",
            "_view_module_version": "1.5.0",
            "_view_name": "HTMLView",
            "description": "",
            "description_tooltip": null,
            "layout": "IPY_MODEL_45a8dd922bc84cc49c510210c966b5b2",
            "placeholder": "​",
            "style": "IPY_MODEL_6dc3d89349054aa9a4110c5a7ae7dd99",
            "value": "special_tokens_map.json: 100%"
          }
        },
        "45a8dd922bc84cc49c510210c966b5b2": {
          "model_module": "@jupyter-widgets/base",
          "model_module_version": "1.2.0",
          "model_name": "LayoutModel",
          "state": {
            "_model_module": "@jupyter-widgets/base",
            "_model_module_version": "1.2.0",
            "_model_name": "LayoutModel",
            "_view_count": null,
            "_view_module": "@jupyter-widgets/base",
            "_view_module_version": "1.2.0",
            "_view_name": "LayoutView",
            "align_content": null,
            "align_items": null,
            "align_self": null,
            "border": null,
            "bottom": null,
            "display": null,
            "flex": null,
            "flex_flow": null,
            "grid_area": null,
            "grid_auto_columns": null,
            "grid_auto_flow": null,
            "grid_auto_rows": null,
            "grid_column": null,
            "grid_gap": null,
            "grid_row": null,
            "grid_template_areas": null,
            "grid_template_columns": null,
            "grid_template_rows": null,
            "height": null,
            "justify_content": null,
            "justify_items": null,
            "left": null,
            "margin": null,
            "max_height": null,
            "max_width": null,
            "min_height": null,
            "min_width": null,
            "object_fit": null,
            "object_position": null,
            "order": null,
            "overflow": null,
            "overflow_x": null,
            "overflow_y": null,
            "padding": null,
            "right": null,
            "top": null,
            "visibility": null,
            "width": null
          }
        },
        "471d804ae7a24a43a9399d9a17619ad6": {
          "model_module": "@jupyter-widgets/controls",
          "model_module_version": "1.5.0",
          "model_name": "HTMLModel",
          "state": {
            "_dom_classes": [],
            "_model_module": "@jupyter-widgets/controls",
            "_model_module_version": "1.5.0",
            "_model_name": "HTMLModel",
            "_view_count": null,
            "_view_module": "@jupyter-widgets/controls",
            "_view_module_version": "1.5.0",
            "_view_name": "HTMLView",
            "description": "",
            "description_tooltip": null,
            "layout": "IPY_MODEL_fb7d16a76f1648f6b78f586ef17f15e0",
            "placeholder": "​",
            "style": "IPY_MODEL_a295f1a203a841ea937ed2796d661c39",
            "value": "config.json: 100%"
          }
        },
        "5002419487374b57a0c980d4b1f5da65": {
          "model_module": "@jupyter-widgets/controls",
          "model_module_version": "1.5.0",
          "model_name": "HBoxModel",
          "state": {
            "_dom_classes": [],
            "_model_module": "@jupyter-widgets/controls",
            "_model_module_version": "1.5.0",
            "_model_name": "HBoxModel",
            "_view_count": null,
            "_view_module": "@jupyter-widgets/controls",
            "_view_module_version": "1.5.0",
            "_view_name": "HBoxView",
            "box_style": "",
            "children": [
              "IPY_MODEL_e32d8a695f1840c294cd9ba2976a8e16",
              "IPY_MODEL_88db3fceb1bd44179d99cc39587e9586",
              "IPY_MODEL_a4851453b1964050949d9e0a3d16cfd6"
            ],
            "layout": "IPY_MODEL_789146f0550f450b8de66097ec4fdd6c"
          }
        },
        "51b80a11294f424288d7539fc45cfa4c": {
          "model_module": "@jupyter-widgets/controls",
          "model_module_version": "1.5.0",
          "model_name": "HBoxModel",
          "state": {
            "_dom_classes": [],
            "_model_module": "@jupyter-widgets/controls",
            "_model_module_version": "1.5.0",
            "_model_name": "HBoxModel",
            "_view_count": null,
            "_view_module": "@jupyter-widgets/controls",
            "_view_module_version": "1.5.0",
            "_view_name": "HBoxView",
            "box_style": "",
            "children": [
              "IPY_MODEL_5d43f29792b54570ad9b1dd50a1262de",
              "IPY_MODEL_53a9dfd96b1e47b78cbce4e062b39462",
              "IPY_MODEL_caa8bd91464349a1b92334130fea76cc"
            ],
            "layout": "IPY_MODEL_d34b79f8c0714e8c8fdd27328bbfc7a1"
          }
        },
        "53a9dfd96b1e47b78cbce4e062b39462": {
          "model_module": "@jupyter-widgets/controls",
          "model_module_version": "1.5.0",
          "model_name": "FloatProgressModel",
          "state": {
            "_dom_classes": [],
            "_model_module": "@jupyter-widgets/controls",
            "_model_module_version": "1.5.0",
            "_model_name": "FloatProgressModel",
            "_view_count": null,
            "_view_module": "@jupyter-widgets/controls",
            "_view_module_version": "1.5.0",
            "_view_name": "ProgressView",
            "bar_style": "success",
            "description": "",
            "description_tooltip": null,
            "layout": "IPY_MODEL_0c872cc3525f442f8f85c35a9a283bc9",
            "max": 456318,
            "min": 0,
            "orientation": "horizontal",
            "style": "IPY_MODEL_a4c07e26a7fd4efb82e55d2ba6fa37cd",
            "value": 456318
          }
        },
        "54558508893243a8bb3321534afbfd5a": {
          "model_module": "@jupyter-widgets/controls",
          "model_module_version": "1.5.0",
          "model_name": "FloatProgressModel",
          "state": {
            "_dom_classes": [],
            "_model_module": "@jupyter-widgets/controls",
            "_model_module_version": "1.5.0",
            "_model_name": "FloatProgressModel",
            "_view_count": null,
            "_view_module": "@jupyter-widgets/controls",
            "_view_module_version": "1.5.0",
            "_view_name": "ProgressView",
            "bar_style": "success",
            "description": "",
            "description_tooltip": null,
            "layout": "IPY_MODEL_d5bdba9b6b9d4fe68fa3a222765a8ca9",
            "max": 498627950,
            "min": 0,
            "orientation": "horizontal",
            "style": "IPY_MODEL_f458b5f7eb504a278197b582f54e1bd7",
            "value": 498627950
          }
        },
        "5a32dc9aa429446091b7ab8ef05ae20a": {
          "model_module": "@jupyter-widgets/base",
          "model_module_version": "1.2.0",
          "model_name": "LayoutModel",
          "state": {
            "_model_module": "@jupyter-widgets/base",
            "_model_module_version": "1.2.0",
            "_model_name": "LayoutModel",
            "_view_count": null,
            "_view_module": "@jupyter-widgets/base",
            "_view_module_version": "1.2.0",
            "_view_name": "LayoutView",
            "align_content": null,
            "align_items": null,
            "align_self": null,
            "border": null,
            "bottom": null,
            "display": null,
            "flex": null,
            "flex_flow": null,
            "grid_area": null,
            "grid_auto_columns": null,
            "grid_auto_flow": null,
            "grid_auto_rows": null,
            "grid_column": null,
            "grid_gap": null,
            "grid_row": null,
            "grid_template_areas": null,
            "grid_template_columns": null,
            "grid_template_rows": null,
            "height": null,
            "justify_content": null,
            "justify_items": null,
            "left": null,
            "margin": null,
            "max_height": null,
            "max_width": null,
            "min_height": null,
            "min_width": null,
            "object_fit": null,
            "object_position": null,
            "order": null,
            "overflow": null,
            "overflow_x": null,
            "overflow_y": null,
            "padding": null,
            "right": null,
            "top": null,
            "visibility": null,
            "width": null
          }
        },
        "5a8ac4b97dca414b94e2170dbff02bb1": {
          "model_module": "@jupyter-widgets/base",
          "model_module_version": "1.2.0",
          "model_name": "LayoutModel",
          "state": {
            "_model_module": "@jupyter-widgets/base",
            "_model_module_version": "1.2.0",
            "_model_name": "LayoutModel",
            "_view_count": null,
            "_view_module": "@jupyter-widgets/base",
            "_view_module_version": "1.2.0",
            "_view_name": "LayoutView",
            "align_content": null,
            "align_items": null,
            "align_self": null,
            "border": null,
            "bottom": null,
            "display": null,
            "flex": null,
            "flex_flow": null,
            "grid_area": null,
            "grid_auto_columns": null,
            "grid_auto_flow": null,
            "grid_auto_rows": null,
            "grid_column": null,
            "grid_gap": null,
            "grid_row": null,
            "grid_template_areas": null,
            "grid_template_columns": null,
            "grid_template_rows": null,
            "height": null,
            "justify_content": null,
            "justify_items": null,
            "left": null,
            "margin": null,
            "max_height": null,
            "max_width": null,
            "min_height": null,
            "min_width": null,
            "object_fit": null,
            "object_position": null,
            "order": null,
            "overflow": null,
            "overflow_x": null,
            "overflow_y": null,
            "padding": null,
            "right": null,
            "top": null,
            "visibility": null,
            "width": null
          }
        },
        "5d357f25578342dbad22b27ba5cbb4e9": {
          "model_module": "@jupyter-widgets/controls",
          "model_module_version": "1.5.0",
          "model_name": "DescriptionStyleModel",
          "state": {
            "_model_module": "@jupyter-widgets/controls",
            "_model_module_version": "1.5.0",
            "_model_name": "DescriptionStyleModel",
            "_view_count": null,
            "_view_module": "@jupyter-widgets/base",
            "_view_module_version": "1.2.0",
            "_view_name": "StyleView",
            "description_width": ""
          }
        },
        "5d43f29792b54570ad9b1dd50a1262de": {
          "model_module": "@jupyter-widgets/controls",
          "model_module_version": "1.5.0",
          "model_name": "HTMLModel",
          "state": {
            "_dom_classes": [],
            "_model_module": "@jupyter-widgets/controls",
            "_model_module_version": "1.5.0",
            "_model_name": "HTMLModel",
            "_view_count": null,
            "_view_module": "@jupyter-widgets/controls",
            "_view_module_version": "1.5.0",
            "_view_name": "HTMLView",
            "description": "",
            "description_tooltip": null,
            "layout": "IPY_MODEL_5a32dc9aa429446091b7ab8ef05ae20a",
            "placeholder": "​",
            "style": "IPY_MODEL_0d5dccf3b8dc4808955bf6ad18cf1bf0",
            "value": "merges.txt: 100%"
          }
        },
        "62fa3750a9214b2490ad224e944f89ad": {
          "model_module": "@jupyter-widgets/controls",
          "model_module_version": "1.5.0",
          "model_name": "DescriptionStyleModel",
          "state": {
            "_model_module": "@jupyter-widgets/controls",
            "_model_module_version": "1.5.0",
            "_model_name": "DescriptionStyleModel",
            "_view_count": null,
            "_view_module": "@jupyter-widgets/base",
            "_view_module_version": "1.2.0",
            "_view_name": "StyleView",
            "description_width": ""
          }
        },
        "69573b28181845149006d06ce4fdc507": {
          "model_module": "@jupyter-widgets/controls",
          "model_module_version": "1.5.0",
          "model_name": "FloatProgressModel",
          "state": {
            "_dom_classes": [],
            "_model_module": "@jupyter-widgets/controls",
            "_model_module_version": "1.5.0",
            "_model_name": "FloatProgressModel",
            "_view_count": null,
            "_view_module": "@jupyter-widgets/controls",
            "_view_module_version": "1.5.0",
            "_view_name": "ProgressView",
            "bar_style": "success",
            "description": "",
            "description_tooltip": null,
            "layout": "IPY_MODEL_cbf48451f87941f68966efd1ba925a23",
            "max": 25,
            "min": 0,
            "orientation": "horizontal",
            "style": "IPY_MODEL_9b3c759498934dd1bfd9c76505fcb198",
            "value": 25
          }
        },
        "6dc3d89349054aa9a4110c5a7ae7dd99": {
          "model_module": "@jupyter-widgets/controls",
          "model_module_version": "1.5.0",
          "model_name": "DescriptionStyleModel",
          "state": {
            "_model_module": "@jupyter-widgets/controls",
            "_model_module_version": "1.5.0",
            "_model_name": "DescriptionStyleModel",
            "_view_count": null,
            "_view_module": "@jupyter-widgets/base",
            "_view_module_version": "1.2.0",
            "_view_name": "StyleView",
            "description_width": ""
          }
        },
        "789146f0550f450b8de66097ec4fdd6c": {
          "model_module": "@jupyter-widgets/base",
          "model_module_version": "1.2.0",
          "model_name": "LayoutModel",
          "state": {
            "_model_module": "@jupyter-widgets/base",
            "_model_module_version": "1.2.0",
            "_model_name": "LayoutModel",
            "_view_count": null,
            "_view_module": "@jupyter-widgets/base",
            "_view_module_version": "1.2.0",
            "_view_name": "LayoutView",
            "align_content": null,
            "align_items": null,
            "align_self": null,
            "border": null,
            "bottom": null,
            "display": null,
            "flex": null,
            "flex_flow": null,
            "grid_area": null,
            "grid_auto_columns": null,
            "grid_auto_flow": null,
            "grid_auto_rows": null,
            "grid_column": null,
            "grid_gap": null,
            "grid_row": null,
            "grid_template_areas": null,
            "grid_template_columns": null,
            "grid_template_rows": null,
            "height": null,
            "justify_content": null,
            "justify_items": null,
            "left": null,
            "margin": null,
            "max_height": null,
            "max_width": null,
            "min_height": null,
            "min_width": null,
            "object_fit": null,
            "object_position": null,
            "order": null,
            "overflow": null,
            "overflow_x": null,
            "overflow_y": null,
            "padding": null,
            "right": null,
            "top": null,
            "visibility": null,
            "width": null
          }
        },
        "88db3fceb1bd44179d99cc39587e9586": {
          "model_module": "@jupyter-widgets/controls",
          "model_module_version": "1.5.0",
          "model_name": "FloatProgressModel",
          "state": {
            "_dom_classes": [],
            "_model_module": "@jupyter-widgets/controls",
            "_model_module_version": "1.5.0",
            "_model_name": "FloatProgressModel",
            "_view_count": null,
            "_view_module": "@jupyter-widgets/controls",
            "_view_module_version": "1.5.0",
            "_view_name": "ProgressView",
            "bar_style": "success",
            "description": "",
            "description_tooltip": null,
            "layout": "IPY_MODEL_cfccbba007d7490cb09739f6584f2ae8",
            "max": 898822,
            "min": 0,
            "orientation": "horizontal",
            "style": "IPY_MODEL_369498116cac4ae09ff455d632984758",
            "value": 898822
          }
        },
        "89e16a41ffbf4e0a91d91ce27d227373": {
          "model_module": "@jupyter-widgets/controls",
          "model_module_version": "1.5.0",
          "model_name": "HTMLModel",
          "state": {
            "_dom_classes": [],
            "_model_module": "@jupyter-widgets/controls",
            "_model_module_version": "1.5.0",
            "_model_name": "HTMLModel",
            "_view_count": null,
            "_view_module": "@jupyter-widgets/controls",
            "_view_module_version": "1.5.0",
            "_view_name": "HTMLView",
            "description": "",
            "description_tooltip": null,
            "layout": "IPY_MODEL_33a7a108cae44c90a8182e3c75f6b379",
            "placeholder": "​",
            "style": "IPY_MODEL_b316b07cb00a4fb98d8ba74bddec984e",
            "value": "tokenizer_config.json: 100%"
          }
        },
        "92c3444219c149e4b28798bee888572c": {
          "model_module": "@jupyter-widgets/base",
          "model_module_version": "1.2.0",
          "model_name": "LayoutModel",
          "state": {
            "_model_module": "@jupyter-widgets/base",
            "_model_module_version": "1.2.0",
            "_model_name": "LayoutModel",
            "_view_count": null,
            "_view_module": "@jupyter-widgets/base",
            "_view_module_version": "1.2.0",
            "_view_name": "LayoutView",
            "align_content": null,
            "align_items": null,
            "align_self": null,
            "border": null,
            "bottom": null,
            "display": null,
            "flex": null,
            "flex_flow": null,
            "grid_area": null,
            "grid_auto_columns": null,
            "grid_auto_flow": null,
            "grid_auto_rows": null,
            "grid_column": null,
            "grid_gap": null,
            "grid_row": null,
            "grid_template_areas": null,
            "grid_template_columns": null,
            "grid_template_rows": null,
            "height": null,
            "justify_content": null,
            "justify_items": null,
            "left": null,
            "margin": null,
            "max_height": null,
            "max_width": null,
            "min_height": null,
            "min_width": null,
            "object_fit": null,
            "object_position": null,
            "order": null,
            "overflow": null,
            "overflow_x": null,
            "overflow_y": null,
            "padding": null,
            "right": null,
            "top": null,
            "visibility": null,
            "width": null
          }
        },
        "9474e9198d374b1c8ca205d2d83c2124": {
          "model_module": "@jupyter-widgets/controls",
          "model_module_version": "1.5.0",
          "model_name": "HTMLModel",
          "state": {
            "_dom_classes": [],
            "_model_module": "@jupyter-widgets/controls",
            "_model_module_version": "1.5.0",
            "_model_name": "HTMLModel",
            "_view_count": null,
            "_view_module": "@jupyter-widgets/controls",
            "_view_module_version": "1.5.0",
            "_view_name": "HTMLView",
            "description": "",
            "description_tooltip": null,
            "layout": "IPY_MODEL_f44ae5924b324f44bde6ad47e63f4dd9",
            "placeholder": "​",
            "style": "IPY_MODEL_3a53b42b225a4cb29a961c1d81049f35",
            "value": " 150/150 [00:00&lt;00:00, 12.4kB/s]"
          }
        },
        "9b3c759498934dd1bfd9c76505fcb198": {
          "model_module": "@jupyter-widgets/controls",
          "model_module_version": "1.5.0",
          "model_name": "ProgressStyleModel",
          "state": {
            "_model_module": "@jupyter-widgets/controls",
            "_model_module_version": "1.5.0",
            "_model_name": "ProgressStyleModel",
            "_view_count": null,
            "_view_module": "@jupyter-widgets/base",
            "_view_module_version": "1.2.0",
            "_view_name": "StyleView",
            "bar_color": null,
            "description_width": ""
          }
        },
        "9d5873d8a2144f8faff06d7e4ec5a1d3": {
          "model_module": "@jupyter-widgets/base",
          "model_module_version": "1.2.0",
          "model_name": "LayoutModel",
          "state": {
            "_model_module": "@jupyter-widgets/base",
            "_model_module_version": "1.2.0",
            "_model_name": "LayoutModel",
            "_view_count": null,
            "_view_module": "@jupyter-widgets/base",
            "_view_module_version": "1.2.0",
            "_view_name": "LayoutView",
            "align_content": null,
            "align_items": null,
            "align_self": null,
            "border": null,
            "bottom": null,
            "display": null,
            "flex": null,
            "flex_flow": null,
            "grid_area": null,
            "grid_auto_columns": null,
            "grid_auto_flow": null,
            "grid_auto_rows": null,
            "grid_column": null,
            "grid_gap": null,
            "grid_row": null,
            "grid_template_areas": null,
            "grid_template_columns": null,
            "grid_template_rows": null,
            "height": null,
            "justify_content": null,
            "justify_items": null,
            "left": null,
            "margin": null,
            "max_height": null,
            "max_width": null,
            "min_height": null,
            "min_width": null,
            "object_fit": null,
            "object_position": null,
            "order": null,
            "overflow": null,
            "overflow_x": null,
            "overflow_y": null,
            "padding": null,
            "right": null,
            "top": null,
            "visibility": null,
            "width": null
          }
        },
        "a295f1a203a841ea937ed2796d661c39": {
          "model_module": "@jupyter-widgets/controls",
          "model_module_version": "1.5.0",
          "model_name": "DescriptionStyleModel",
          "state": {
            "_model_module": "@jupyter-widgets/controls",
            "_model_module_version": "1.5.0",
            "_model_name": "DescriptionStyleModel",
            "_view_count": null,
            "_view_module": "@jupyter-widgets/base",
            "_view_module_version": "1.2.0",
            "_view_name": "StyleView",
            "description_width": ""
          }
        },
        "a4851453b1964050949d9e0a3d16cfd6": {
          "model_module": "@jupyter-widgets/controls",
          "model_module_version": "1.5.0",
          "model_name": "HTMLModel",
          "state": {
            "_dom_classes": [],
            "_model_module": "@jupyter-widgets/controls",
            "_model_module_version": "1.5.0",
            "_model_name": "HTMLModel",
            "_view_count": null,
            "_view_module": "@jupyter-widgets/controls",
            "_view_module_version": "1.5.0",
            "_view_name": "HTMLView",
            "description": "",
            "description_tooltip": null,
            "layout": "IPY_MODEL_13151feabdd544dfbfbd017e17fc19d9",
            "placeholder": "​",
            "style": "IPY_MODEL_b01c584a5a7345c6ac7ff9d9c29e54bd",
            "value": " 899k/899k [00:00&lt;00:00, 1.86MB/s]"
          }
        },
        "a4c07e26a7fd4efb82e55d2ba6fa37cd": {
          "model_module": "@jupyter-widgets/controls",
          "model_module_version": "1.5.0",
          "model_name": "ProgressStyleModel",
          "state": {
            "_model_module": "@jupyter-widgets/controls",
            "_model_module_version": "1.5.0",
            "_model_name": "ProgressStyleModel",
            "_view_count": null,
            "_view_module": "@jupyter-widgets/base",
            "_view_module_version": "1.2.0",
            "_view_name": "StyleView",
            "bar_color": null,
            "description_width": ""
          }
        },
        "a94edc754a394f129191401639ab4fa6": {
          "model_module": "@jupyter-widgets/controls",
          "model_module_version": "1.5.0",
          "model_name": "HTMLModel",
          "state": {
            "_dom_classes": [],
            "_model_module": "@jupyter-widgets/controls",
            "_model_module_version": "1.5.0",
            "_model_name": "HTMLModel",
            "_view_count": null,
            "_view_module": "@jupyter-widgets/controls",
            "_view_module_version": "1.5.0",
            "_view_name": "HTMLView",
            "description": "",
            "description_tooltip": null,
            "layout": "IPY_MODEL_030607ef6fe84fee8007446cb509be61",
            "placeholder": "​",
            "style": "IPY_MODEL_62fa3750a9214b2490ad224e944f89ad",
            "value": " 25.0/25.0 [00:00&lt;00:00, 2.36kB/s]"
          }
        },
        "b01c584a5a7345c6ac7ff9d9c29e54bd": {
          "model_module": "@jupyter-widgets/controls",
          "model_module_version": "1.5.0",
          "model_name": "DescriptionStyleModel",
          "state": {
            "_model_module": "@jupyter-widgets/controls",
            "_model_module_version": "1.5.0",
            "_model_name": "DescriptionStyleModel",
            "_view_count": null,
            "_view_module": "@jupyter-widgets/base",
            "_view_module_version": "1.2.0",
            "_view_name": "StyleView",
            "description_width": ""
          }
        },
        "b316b07cb00a4fb98d8ba74bddec984e": {
          "model_module": "@jupyter-widgets/controls",
          "model_module_version": "1.5.0",
          "model_name": "DescriptionStyleModel",
          "state": {
            "_model_module": "@jupyter-widgets/controls",
            "_model_module_version": "1.5.0",
            "_model_name": "DescriptionStyleModel",
            "_view_count": null,
            "_view_module": "@jupyter-widgets/base",
            "_view_module_version": "1.2.0",
            "_view_name": "StyleView",
            "description_width": ""
          }
        },
        "b83c333bc50847b4ba38bf6a976c3b7e": {
          "model_module": "@jupyter-widgets/base",
          "model_module_version": "1.2.0",
          "model_name": "LayoutModel",
          "state": {
            "_model_module": "@jupyter-widgets/base",
            "_model_module_version": "1.2.0",
            "_model_name": "LayoutModel",
            "_view_count": null,
            "_view_module": "@jupyter-widgets/base",
            "_view_module_version": "1.2.0",
            "_view_name": "LayoutView",
            "align_content": null,
            "align_items": null,
            "align_self": null,
            "border": null,
            "bottom": null,
            "display": null,
            "flex": null,
            "flex_flow": null,
            "grid_area": null,
            "grid_auto_columns": null,
            "grid_auto_flow": null,
            "grid_auto_rows": null,
            "grid_column": null,
            "grid_gap": null,
            "grid_row": null,
            "grid_template_areas": null,
            "grid_template_columns": null,
            "grid_template_rows": null,
            "height": null,
            "justify_content": null,
            "justify_items": null,
            "left": null,
            "margin": null,
            "max_height": null,
            "max_width": null,
            "min_height": null,
            "min_width": null,
            "object_fit": null,
            "object_position": null,
            "order": null,
            "overflow": null,
            "overflow_x": null,
            "overflow_y": null,
            "padding": null,
            "right": null,
            "top": null,
            "visibility": null,
            "width": null
          }
        },
        "bba0ab96300c4bb691d4d025168e8fc2": {
          "model_module": "@jupyter-widgets/base",
          "model_module_version": "1.2.0",
          "model_name": "LayoutModel",
          "state": {
            "_model_module": "@jupyter-widgets/base",
            "_model_module_version": "1.2.0",
            "_model_name": "LayoutModel",
            "_view_count": null,
            "_view_module": "@jupyter-widgets/base",
            "_view_module_version": "1.2.0",
            "_view_name": "LayoutView",
            "align_content": null,
            "align_items": null,
            "align_self": null,
            "border": null,
            "bottom": null,
            "display": null,
            "flex": null,
            "flex_flow": null,
            "grid_area": null,
            "grid_auto_columns": null,
            "grid_auto_flow": null,
            "grid_auto_rows": null,
            "grid_column": null,
            "grid_gap": null,
            "grid_row": null,
            "grid_template_areas": null,
            "grid_template_columns": null,
            "grid_template_rows": null,
            "height": null,
            "justify_content": null,
            "justify_items": null,
            "left": null,
            "margin": null,
            "max_height": null,
            "max_width": null,
            "min_height": null,
            "min_width": null,
            "object_fit": null,
            "object_position": null,
            "order": null,
            "overflow": null,
            "overflow_x": null,
            "overflow_y": null,
            "padding": null,
            "right": null,
            "top": null,
            "visibility": null,
            "width": null
          }
        },
        "c3da7d04467f40c0a3a54a26e0726bb2": {
          "model_module": "@jupyter-widgets/controls",
          "model_module_version": "1.5.0",
          "model_name": "HBoxModel",
          "state": {
            "_dom_classes": [],
            "_model_module": "@jupyter-widgets/controls",
            "_model_module_version": "1.5.0",
            "_model_name": "HBoxModel",
            "_view_count": null,
            "_view_module": "@jupyter-widgets/controls",
            "_view_module_version": "1.5.0",
            "_view_name": "HBoxView",
            "box_style": "",
            "children": [
              "IPY_MODEL_2324fa453fe7472f80d7e71a12b7abc3",
              "IPY_MODEL_54558508893243a8bb3321534afbfd5a",
              "IPY_MODEL_cff83c7534024690bce996b8796bf112"
            ],
            "layout": "IPY_MODEL_34a20f6a820d454f82a7b61577a8dc1f"
          }
        },
        "c6722170c28740daa126611c56aec406": {
          "model_module": "@jupyter-widgets/base",
          "model_module_version": "1.2.0",
          "model_name": "LayoutModel",
          "state": {
            "_model_module": "@jupyter-widgets/base",
            "_model_module_version": "1.2.0",
            "_model_name": "LayoutModel",
            "_view_count": null,
            "_view_module": "@jupyter-widgets/base",
            "_view_module_version": "1.2.0",
            "_view_name": "LayoutView",
            "align_content": null,
            "align_items": null,
            "align_self": null,
            "border": null,
            "bottom": null,
            "display": null,
            "flex": null,
            "flex_flow": null,
            "grid_area": null,
            "grid_auto_columns": null,
            "grid_auto_flow": null,
            "grid_auto_rows": null,
            "grid_column": null,
            "grid_gap": null,
            "grid_row": null,
            "grid_template_areas": null,
            "grid_template_columns": null,
            "grid_template_rows": null,
            "height": null,
            "justify_content": null,
            "justify_items": null,
            "left": null,
            "margin": null,
            "max_height": null,
            "max_width": null,
            "min_height": null,
            "min_width": null,
            "object_fit": null,
            "object_position": null,
            "order": null,
            "overflow": null,
            "overflow_x": null,
            "overflow_y": null,
            "padding": null,
            "right": null,
            "top": null,
            "visibility": null,
            "width": null
          }
        },
        "ca2f67bcf60c48a69d82e49bc967785a": {
          "model_module": "@jupyter-widgets/controls",
          "model_module_version": "1.5.0",
          "model_name": "DescriptionStyleModel",
          "state": {
            "_model_module": "@jupyter-widgets/controls",
            "_model_module_version": "1.5.0",
            "_model_name": "DescriptionStyleModel",
            "_view_count": null,
            "_view_module": "@jupyter-widgets/base",
            "_view_module_version": "1.2.0",
            "_view_name": "StyleView",
            "description_width": ""
          }
        },
        "caa8bd91464349a1b92334130fea76cc": {
          "model_module": "@jupyter-widgets/controls",
          "model_module_version": "1.5.0",
          "model_name": "HTMLModel",
          "state": {
            "_dom_classes": [],
            "_model_module": "@jupyter-widgets/controls",
            "_model_module_version": "1.5.0",
            "_model_name": "HTMLModel",
            "_view_count": null,
            "_view_module": "@jupyter-widgets/controls",
            "_view_module_version": "1.5.0",
            "_view_name": "HTMLView",
            "description": "",
            "description_tooltip": null,
            "layout": "IPY_MODEL_faa7b2e9d4434f59b4025d4f0672b28f",
            "placeholder": "​",
            "style": "IPY_MODEL_cbf48700257d43f7871b6e6628e950ba",
            "value": " 456k/456k [00:00&lt;00:00, 1.04MB/s]"
          }
        },
        "cb886794d1de40ddba2b138be2b27e9e": {
          "model_module": "@jupyter-widgets/controls",
          "model_module_version": "1.5.0",
          "model_name": "HBoxModel",
          "state": {
            "_dom_classes": [],
            "_model_module": "@jupyter-widgets/controls",
            "_model_module_version": "1.5.0",
            "_model_name": "HBoxModel",
            "_view_count": null,
            "_view_module": "@jupyter-widgets/controls",
            "_view_module_version": "1.5.0",
            "_view_name": "HBoxView",
            "box_style": "",
            "children": [
              "IPY_MODEL_89e16a41ffbf4e0a91d91ce27d227373",
              "IPY_MODEL_69573b28181845149006d06ce4fdc507",
              "IPY_MODEL_a94edc754a394f129191401639ab4fa6"
            ],
            "layout": "IPY_MODEL_c6722170c28740daa126611c56aec406"
          }
        },
        "cbf48451f87941f68966efd1ba925a23": {
          "model_module": "@jupyter-widgets/base",
          "model_module_version": "1.2.0",
          "model_name": "LayoutModel",
          "state": {
            "_model_module": "@jupyter-widgets/base",
            "_model_module_version": "1.2.0",
            "_model_name": "LayoutModel",
            "_view_count": null,
            "_view_module": "@jupyter-widgets/base",
            "_view_module_version": "1.2.0",
            "_view_name": "LayoutView",
            "align_content": null,
            "align_items": null,
            "align_self": null,
            "border": null,
            "bottom": null,
            "display": null,
            "flex": null,
            "flex_flow": null,
            "grid_area": null,
            "grid_auto_columns": null,
            "grid_auto_flow": null,
            "grid_auto_rows": null,
            "grid_column": null,
            "grid_gap": null,
            "grid_row": null,
            "grid_template_areas": null,
            "grid_template_columns": null,
            "grid_template_rows": null,
            "height": null,
            "justify_content": null,
            "justify_items": null,
            "left": null,
            "margin": null,
            "max_height": null,
            "max_width": null,
            "min_height": null,
            "min_width": null,
            "object_fit": null,
            "object_position": null,
            "order": null,
            "overflow": null,
            "overflow_x": null,
            "overflow_y": null,
            "padding": null,
            "right": null,
            "top": null,
            "visibility": null,
            "width": null
          }
        },
        "cbf48700257d43f7871b6e6628e950ba": {
          "model_module": "@jupyter-widgets/controls",
          "model_module_version": "1.5.0",
          "model_name": "DescriptionStyleModel",
          "state": {
            "_model_module": "@jupyter-widgets/controls",
            "_model_module_version": "1.5.0",
            "_model_name": "DescriptionStyleModel",
            "_view_count": null,
            "_view_module": "@jupyter-widgets/base",
            "_view_module_version": "1.2.0",
            "_view_name": "StyleView",
            "description_width": ""
          }
        },
        "cf77bdf9eda84326b2f8c4a8adc592b8": {
          "model_module": "@jupyter-widgets/controls",
          "model_module_version": "1.5.0",
          "model_name": "FloatProgressModel",
          "state": {
            "_dom_classes": [],
            "_model_module": "@jupyter-widgets/controls",
            "_model_module_version": "1.5.0",
            "_model_name": "FloatProgressModel",
            "_view_count": null,
            "_view_module": "@jupyter-widgets/controls",
            "_view_module_version": "1.5.0",
            "_view_name": "ProgressView",
            "bar_style": "success",
            "description": "",
            "description_tooltip": null,
            "layout": "IPY_MODEL_fd1b5619e2a64b46bd6dd48b1328dd59",
            "max": 498,
            "min": 0,
            "orientation": "horizontal",
            "style": "IPY_MODEL_01d740979f47467c94233b7aac08e31b",
            "value": 498
          }
        },
        "cfccbba007d7490cb09739f6584f2ae8": {
          "model_module": "@jupyter-widgets/base",
          "model_module_version": "1.2.0",
          "model_name": "LayoutModel",
          "state": {
            "_model_module": "@jupyter-widgets/base",
            "_model_module_version": "1.2.0",
            "_model_name": "LayoutModel",
            "_view_count": null,
            "_view_module": "@jupyter-widgets/base",
            "_view_module_version": "1.2.0",
            "_view_name": "LayoutView",
            "align_content": null,
            "align_items": null,
            "align_self": null,
            "border": null,
            "bottom": null,
            "display": null,
            "flex": null,
            "flex_flow": null,
            "grid_area": null,
            "grid_auto_columns": null,
            "grid_auto_flow": null,
            "grid_auto_rows": null,
            "grid_column": null,
            "grid_gap": null,
            "grid_row": null,
            "grid_template_areas": null,
            "grid_template_columns": null,
            "grid_template_rows": null,
            "height": null,
            "justify_content": null,
            "justify_items": null,
            "left": null,
            "margin": null,
            "max_height": null,
            "max_width": null,
            "min_height": null,
            "min_width": null,
            "object_fit": null,
            "object_position": null,
            "order": null,
            "overflow": null,
            "overflow_x": null,
            "overflow_y": null,
            "padding": null,
            "right": null,
            "top": null,
            "visibility": null,
            "width": null
          }
        },
        "cff83c7534024690bce996b8796bf112": {
          "model_module": "@jupyter-widgets/controls",
          "model_module_version": "1.5.0",
          "model_name": "HTMLModel",
          "state": {
            "_dom_classes": [],
            "_model_module": "@jupyter-widgets/controls",
            "_model_module_version": "1.5.0",
            "_model_name": "HTMLModel",
            "_view_count": null,
            "_view_module": "@jupyter-widgets/controls",
            "_view_module_version": "1.5.0",
            "_view_name": "HTMLView",
            "description": "",
            "description_tooltip": null,
            "layout": "IPY_MODEL_009903730bec4c45a94d6a4478000123",
            "placeholder": "​",
            "style": "IPY_MODEL_d6173d8cd2614d63a1787ba9ad70c132",
            "value": " 499M/499M [00:01&lt;00:00, 250MB/s]"
          }
        },
        "d34b79f8c0714e8c8fdd27328bbfc7a1": {
          "model_module": "@jupyter-widgets/base",
          "model_module_version": "1.2.0",
          "model_name": "LayoutModel",
          "state": {
            "_model_module": "@jupyter-widgets/base",
            "_model_module_version": "1.2.0",
            "_model_name": "LayoutModel",
            "_view_count": null,
            "_view_module": "@jupyter-widgets/base",
            "_view_module_version": "1.2.0",
            "_view_name": "LayoutView",
            "align_content": null,
            "align_items": null,
            "align_self": null,
            "border": null,
            "bottom": null,
            "display": null,
            "flex": null,
            "flex_flow": null,
            "grid_area": null,
            "grid_auto_columns": null,
            "grid_auto_flow": null,
            "grid_auto_rows": null,
            "grid_column": null,
            "grid_gap": null,
            "grid_row": null,
            "grid_template_areas": null,
            "grid_template_columns": null,
            "grid_template_rows": null,
            "height": null,
            "justify_content": null,
            "justify_items": null,
            "left": null,
            "margin": null,
            "max_height": null,
            "max_width": null,
            "min_height": null,
            "min_width": null,
            "object_fit": null,
            "object_position": null,
            "order": null,
            "overflow": null,
            "overflow_x": null,
            "overflow_y": null,
            "padding": null,
            "right": null,
            "top": null,
            "visibility": null,
            "width": null
          }
        },
        "d5bdba9b6b9d4fe68fa3a222765a8ca9": {
          "model_module": "@jupyter-widgets/base",
          "model_module_version": "1.2.0",
          "model_name": "LayoutModel",
          "state": {
            "_model_module": "@jupyter-widgets/base",
            "_model_module_version": "1.2.0",
            "_model_name": "LayoutModel",
            "_view_count": null,
            "_view_module": "@jupyter-widgets/base",
            "_view_module_version": "1.2.0",
            "_view_name": "LayoutView",
            "align_content": null,
            "align_items": null,
            "align_self": null,
            "border": null,
            "bottom": null,
            "display": null,
            "flex": null,
            "flex_flow": null,
            "grid_area": null,
            "grid_auto_columns": null,
            "grid_auto_flow": null,
            "grid_auto_rows": null,
            "grid_column": null,
            "grid_gap": null,
            "grid_row": null,
            "grid_template_areas": null,
            "grid_template_columns": null,
            "grid_template_rows": null,
            "height": null,
            "justify_content": null,
            "justify_items": null,
            "left": null,
            "margin": null,
            "max_height": null,
            "max_width": null,
            "min_height": null,
            "min_width": null,
            "object_fit": null,
            "object_position": null,
            "order": null,
            "overflow": null,
            "overflow_x": null,
            "overflow_y": null,
            "padding": null,
            "right": null,
            "top": null,
            "visibility": null,
            "width": null
          }
        },
        "d6173d8cd2614d63a1787ba9ad70c132": {
          "model_module": "@jupyter-widgets/controls",
          "model_module_version": "1.5.0",
          "model_name": "DescriptionStyleModel",
          "state": {
            "_model_module": "@jupyter-widgets/controls",
            "_model_module_version": "1.5.0",
            "_model_name": "DescriptionStyleModel",
            "_view_count": null,
            "_view_module": "@jupyter-widgets/base",
            "_view_module_version": "1.2.0",
            "_view_name": "StyleView",
            "description_width": ""
          }
        },
        "e32d8a695f1840c294cd9ba2976a8e16": {
          "model_module": "@jupyter-widgets/controls",
          "model_module_version": "1.5.0",
          "model_name": "HTMLModel",
          "state": {
            "_dom_classes": [],
            "_model_module": "@jupyter-widgets/controls",
            "_model_module_version": "1.5.0",
            "_model_name": "HTMLModel",
            "_view_count": null,
            "_view_module": "@jupyter-widgets/controls",
            "_view_module_version": "1.5.0",
            "_view_name": "HTMLView",
            "description": "",
            "description_tooltip": null,
            "layout": "IPY_MODEL_5a8ac4b97dca414b94e2170dbff02bb1",
            "placeholder": "​",
            "style": "IPY_MODEL_5d357f25578342dbad22b27ba5cbb4e9",
            "value": "vocab.json: 100%"
          }
        },
        "f1727ee3799c458f8e16b2d8b884d671": {
          "model_module": "@jupyter-widgets/controls",
          "model_module_version": "1.5.0",
          "model_name": "HBoxModel",
          "state": {
            "_dom_classes": [],
            "_model_module": "@jupyter-widgets/controls",
            "_model_module_version": "1.5.0",
            "_model_name": "HBoxModel",
            "_view_count": null,
            "_view_module": "@jupyter-widgets/controls",
            "_view_module_version": "1.5.0",
            "_view_name": "HBoxView",
            "box_style": "",
            "children": [
              "IPY_MODEL_3d907c30a2634364a64a67d7c20f15d5",
              "IPY_MODEL_0902c22a5bce4a6f896091e4c96beacf",
              "IPY_MODEL_9474e9198d374b1c8ca205d2d83c2124"
            ],
            "layout": "IPY_MODEL_9d5873d8a2144f8faff06d7e4ec5a1d3"
          }
        },
        "f44ae5924b324f44bde6ad47e63f4dd9": {
          "model_module": "@jupyter-widgets/base",
          "model_module_version": "1.2.0",
          "model_name": "LayoutModel",
          "state": {
            "_model_module": "@jupyter-widgets/base",
            "_model_module_version": "1.2.0",
            "_model_name": "LayoutModel",
            "_view_count": null,
            "_view_module": "@jupyter-widgets/base",
            "_view_module_version": "1.2.0",
            "_view_name": "LayoutView",
            "align_content": null,
            "align_items": null,
            "align_self": null,
            "border": null,
            "bottom": null,
            "display": null,
            "flex": null,
            "flex_flow": null,
            "grid_area": null,
            "grid_auto_columns": null,
            "grid_auto_flow": null,
            "grid_auto_rows": null,
            "grid_column": null,
            "grid_gap": null,
            "grid_row": null,
            "grid_template_areas": null,
            "grid_template_columns": null,
            "grid_template_rows": null,
            "height": null,
            "justify_content": null,
            "justify_items": null,
            "left": null,
            "margin": null,
            "max_height": null,
            "max_width": null,
            "min_height": null,
            "min_width": null,
            "object_fit": null,
            "object_position": null,
            "order": null,
            "overflow": null,
            "overflow_x": null,
            "overflow_y": null,
            "padding": null,
            "right": null,
            "top": null,
            "visibility": null,
            "width": null
          }
        },
        "f458b5f7eb504a278197b582f54e1bd7": {
          "model_module": "@jupyter-widgets/controls",
          "model_module_version": "1.5.0",
          "model_name": "ProgressStyleModel",
          "state": {
            "_model_module": "@jupyter-widgets/controls",
            "_model_module_version": "1.5.0",
            "_model_name": "ProgressStyleModel",
            "_view_count": null,
            "_view_module": "@jupyter-widgets/base",
            "_view_module_version": "1.2.0",
            "_view_name": "StyleView",
            "bar_color": null,
            "description_width": ""
          }
        },
        "fa9410ef174243b1988a0aa63ca38cfe": {
          "model_module": "@jupyter-widgets/controls",
          "model_module_version": "1.5.0",
          "model_name": "ProgressStyleModel",
          "state": {
            "_model_module": "@jupyter-widgets/controls",
            "_model_module_version": "1.5.0",
            "_model_name": "ProgressStyleModel",
            "_view_count": null,
            "_view_module": "@jupyter-widgets/base",
            "_view_module_version": "1.2.0",
            "_view_name": "StyleView",
            "bar_color": null,
            "description_width": ""
          }
        },
        "faa7b2e9d4434f59b4025d4f0672b28f": {
          "model_module": "@jupyter-widgets/base",
          "model_module_version": "1.2.0",
          "model_name": "LayoutModel",
          "state": {
            "_model_module": "@jupyter-widgets/base",
            "_model_module_version": "1.2.0",
            "_model_name": "LayoutModel",
            "_view_count": null,
            "_view_module": "@jupyter-widgets/base",
            "_view_module_version": "1.2.0",
            "_view_name": "LayoutView",
            "align_content": null,
            "align_items": null,
            "align_self": null,
            "border": null,
            "bottom": null,
            "display": null,
            "flex": null,
            "flex_flow": null,
            "grid_area": null,
            "grid_auto_columns": null,
            "grid_auto_flow": null,
            "grid_auto_rows": null,
            "grid_column": null,
            "grid_gap": null,
            "grid_row": null,
            "grid_template_areas": null,
            "grid_template_columns": null,
            "grid_template_rows": null,
            "height": null,
            "justify_content": null,
            "justify_items": null,
            "left": null,
            "margin": null,
            "max_height": null,
            "max_width": null,
            "min_height": null,
            "min_width": null,
            "object_fit": null,
            "object_position": null,
            "order": null,
            "overflow": null,
            "overflow_x": null,
            "overflow_y": null,
            "padding": null,
            "right": null,
            "top": null,
            "visibility": null,
            "width": null
          }
        },
        "fb7d16a76f1648f6b78f586ef17f15e0": {
          "model_module": "@jupyter-widgets/base",
          "model_module_version": "1.2.0",
          "model_name": "LayoutModel",
          "state": {
            "_model_module": "@jupyter-widgets/base",
            "_model_module_version": "1.2.0",
            "_model_name": "LayoutModel",
            "_view_count": null,
            "_view_module": "@jupyter-widgets/base",
            "_view_module_version": "1.2.0",
            "_view_name": "LayoutView",
            "align_content": null,
            "align_items": null,
            "align_self": null,
            "border": null,
            "bottom": null,
            "display": null,
            "flex": null,
            "flex_flow": null,
            "grid_area": null,
            "grid_auto_columns": null,
            "grid_auto_flow": null,
            "grid_auto_rows": null,
            "grid_column": null,
            "grid_gap": null,
            "grid_row": null,
            "grid_template_areas": null,
            "grid_template_columns": null,
            "grid_template_rows": null,
            "height": null,
            "justify_content": null,
            "justify_items": null,
            "left": null,
            "margin": null,
            "max_height": null,
            "max_width": null,
            "min_height": null,
            "min_width": null,
            "object_fit": null,
            "object_position": null,
            "order": null,
            "overflow": null,
            "overflow_x": null,
            "overflow_y": null,
            "padding": null,
            "right": null,
            "top": null,
            "visibility": null,
            "width": null
          }
        },
        "fb97bd4362f048e495107e6b06c7b070": {
          "model_module": "@jupyter-widgets/controls",
          "model_module_version": "1.5.0",
          "model_name": "HBoxModel",
          "state": {
            "_dom_classes": [],
            "_model_module": "@jupyter-widgets/controls",
            "_model_module_version": "1.5.0",
            "_model_name": "HBoxModel",
            "_view_count": null,
            "_view_module": "@jupyter-widgets/controls",
            "_view_module_version": "1.5.0",
            "_view_name": "HBoxView",
            "box_style": "",
            "children": [
              "IPY_MODEL_471d804ae7a24a43a9399d9a17619ad6",
              "IPY_MODEL_cf77bdf9eda84326b2f8c4a8adc592b8",
              "IPY_MODEL_2831f175c58d4df1bdca7ab51580a585"
            ],
            "layout": "IPY_MODEL_3622c40246cd4c418d6b0be87a8eabe3"
          }
        },
        "fd1b5619e2a64b46bd6dd48b1328dd59": {
          "model_module": "@jupyter-widgets/base",
          "model_module_version": "1.2.0",
          "model_name": "LayoutModel",
          "state": {
            "_model_module": "@jupyter-widgets/base",
            "_model_module_version": "1.2.0",
            "_model_name": "LayoutModel",
            "_view_count": null,
            "_view_module": "@jupyter-widgets/base",
            "_view_module_version": "1.2.0",
            "_view_name": "LayoutView",
            "align_content": null,
            "align_items": null,
            "align_self": null,
            "border": null,
            "bottom": null,
            "display": null,
            "flex": null,
            "flex_flow": null,
            "grid_area": null,
            "grid_auto_columns": null,
            "grid_auto_flow": null,
            "grid_auto_rows": null,
            "grid_column": null,
            "grid_gap": null,
            "grid_row": null,
            "grid_template_areas": null,
            "grid_template_columns": null,
            "grid_template_rows": null,
            "height": null,
            "justify_content": null,
            "justify_items": null,
            "left": null,
            "margin": null,
            "max_height": null,
            "max_width": null,
            "min_height": null,
            "min_width": null,
            "object_fit": null,
            "object_position": null,
            "order": null,
            "overflow": null,
            "overflow_x": null,
            "overflow_y": null,
            "padding": null,
            "right": null,
            "top": null,
            "visibility": null,
            "width": null
          }
        }
      }
    }
  },
  "nbformat": 4,
  "nbformat_minor": 0
}
